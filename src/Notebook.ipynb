{
 "cells": [
  {
   "cell_type": "markdown",
   "metadata": {
    "id": "uR1JW69eLfG_"
   },
   "source": [
    "# IF3170 Artificial Intelligence | Tugas Besar 2\n",
    "\n",
    "This notebook serves as a template for the assignment. Please create a copy of this notebook to complete your work. You can add more code blocks, markdown blocks, or new sections if needed.\n"
   ]
  },
  {
   "cell_type": "markdown",
   "metadata": {
    "id": "ucbaI5rBLtjJ"
   },
   "source": [
    "Group AK48  \n",
    "Group Number: 25\n",
    "\n",
    "Group Members:\n",
    "- Aurelius Justin Philo Fanjaya (13522020)\n",
    "- Bagas Sambega Rosyada (13522071)\n",
    "- Fedrianz Dharma (13522090)\n",
    "- Raden Francisco Trianto B. (13522091)"
   ]
  },
  {
   "cell_type": "markdown",
   "metadata": {
    "id": "GwzsfETHLfHA"
   },
   "source": [
    "## Import Libraries"
   ]
  },
  {
   "cell_type": "code",
   "execution_count": null,
   "metadata": {
    "ExecuteTime": {
     "end_time": "2024-12-01T11:13:02.638221Z",
     "start_time": "2024-12-01T11:12:58.163344Z"
    },
    "id": "jZJU5W_4LfHB"
   },
   "outputs": [],
   "source": [
    "import pandas as pd\n",
    "import numpy as np\n",
    "from IPython.display import Markdown, display\n",
    "from sklearn.impute import SimpleImputer\n",
    "from sklearn.ensemble import IsolationForest\n",
    "from sklearn.base import BaseEstimator, TransformerMixin\n",
    "\n",
    "\n",
    "# Function to display markdown\n",
    "def print_markdown(md_text):\n",
    "    display(Markdown(md_text))"
   ]
  },
  {
   "cell_type": "markdown",
   "metadata": {
    "id": "OKbjLIdYLfHC"
   },
   "source": [
    "## Import Dataset"
   ]
  },
  {
   "cell_type": "code",
   "execution_count": 2,
   "metadata": {
    "ExecuteTime": {
     "end_time": "2024-12-01T11:13:06.378245Z",
     "start_time": "2024-12-01T11:13:02.642987Z"
    },
    "id": "-IWFJ-gdLfHD"
   },
   "outputs": [
    {
     "name": "stdout",
     "output_type": "stream",
     "text": [
      "  state       dur   sbytes    dbytes   sttl   dttl  sloss  dloss service  \\\n",
      "0   FIN  2.736664  13350.0  548216.0   31.0   29.0   21.0  197.0       -   \n",
      "1   INT  0.000009    114.0       0.0  254.0    0.0    0.0    0.0     dns   \n",
      "2   FIN  5.788526   6102.0    3892.0  254.0  252.0   13.0   13.0       -   \n",
      "3   FIN  3.849634  25160.0       NaN   31.0   29.0   38.0  390.0       -   \n",
      "4   CON  0.001052    130.0     162.0    NaN   29.0    0.0    0.0     dns   \n",
      "\n",
      "          sload  ...  response_body_len  proto         sjit         djit  \\\n",
      "0  3.885899e+04  ...                0.0    tcp  4449.110313  3234.831566   \n",
      "1  5.066666e+07  ...                0.0    udp     0.000000     0.000000   \n",
      "2  8.199669e+03  ...                0.0    tcp  8561.040438   249.950547   \n",
      "3  5.216912e+04  ...                0.0    tcp  4053.086020  2918.730804   \n",
      "4  4.942966e+05  ...                0.0    udp     0.000000     0.000000   \n",
      "\n",
      "       sinpkt      dinpkt    tcprtt    synack    ackdat  attack_cat  \n",
      "0   11.845558    6.261361       NaN  0.000444  0.000114      Normal  \n",
      "1    0.009000    0.000000  0.000000  0.000000       NaN     Generic  \n",
      "2  165.386453  172.345750  0.158826  0.057902  0.100924    Exploits  \n",
      "3    8.669644    4.496707  0.000558  0.000448       NaN      Normal  \n",
      "4    0.008000    0.007000  0.000000  0.000000  0.000000      Normal  \n",
      "\n",
      "[5 rows x 30 columns]\n"
     ]
    }
   ],
   "source": [
    "# Example of reading a csv file from a gdrive link\n",
    "\n",
    "# Take the file id from the gdrive file url\n",
    "# https://drive.google.com/file/d/1ZUtiaty9RPXhpz5F2Sy3dFPHF4YIt5iU/view?usp=sharing => The file id is 1ZUtiaty9RPXhpz5F2Sy3dFPHF4YIt5iU\n",
    "# and then put it in this format:\n",
    "# https://drive.google.com/uc?id={file_id}\n",
    "# Don't forget to change the access to public\n",
    "\n",
    "# Local path\n",
    "train_path = \"../dataset/train/\"\n",
    "\n",
    "basic_features_df = pd.read_csv(train_path + \"basic_features_train.csv\")\n",
    "content_features_df = pd.read_csv(train_path + \"content_features_train.csv\")\n",
    "flow_features_df = pd.read_csv(train_path + \"flow_features_train.csv\")\n",
    "time_features_df = pd.read_csv(train_path + \"time_features_train.csv\")\n",
    "labels_df = pd.read_csv(train_path + \"labels_train.csv\").drop(columns=['label'])\n",
    "\n",
    "df = basic_features_df.merge(content_features_df, on=\"id\") \\\n",
    "    .merge(flow_features_df, on=\"id\") \\\n",
    "    .merge(time_features_df, on=\"id\") \\\n",
    "    .merge(labels_df, on=\"id\").drop(columns=['id'])\n",
    "\n",
    "print(df.head())"
   ]
  },
  {
   "cell_type": "markdown",
   "metadata": {
    "id": "YdSor5sdIYGs"
   },
   "source": [
    "# Exploratory Data Analysis (Optional)\n",
    "\n",
    "Exploratory Data Analysis (EDA) is a crucial step in the data analysis process that involves examining and visualizing data sets to uncover patterns, trends, anomalies, and insights. It is the first step before applying more advanced statistical and machine learning techniques. EDA helps you to gain a deep understanding of the data you are working with, allowing you to make informed decisions and formulate hypotheses for further analysis."
   ]
  },
  {
   "cell_type": "markdown",
   "metadata": {},
   "source": [
    "## Data Understanding   "
   ]
  },
  {
   "cell_type": "code",
   "execution_count": 3,
   "metadata": {
    "ExecuteTime": {
     "end_time": "2024-12-01T11:13:11.102131Z",
     "start_time": "2024-12-01T11:13:06.400207Z"
    },
    "id": "bGiGPVYNIoWk"
   },
   "outputs": [
    {
     "data": {
      "text/markdown": [
       "### 1. Data Size"
      ],
      "text/plain": [
       "<IPython.core.display.Markdown object>"
      ]
     },
     "metadata": {},
     "output_type": "display_data"
    },
    {
     "name": "stdout",
     "output_type": "stream",
     "text": [
      "Number of instances: 175341 | Number of features: 29\n",
      "Target class: attack_cat\n"
     ]
    },
    {
     "data": {
      "text/markdown": [
       "### 2. Data Types"
      ],
      "text/plain": [
       "<IPython.core.display.Markdown object>"
      ]
     },
     "metadata": {},
     "output_type": "display_data"
    },
    {
     "name": "stdout",
     "output_type": "stream",
     "text": [
      "state                 object\n",
      "dur                  float64\n",
      "sbytes               float64\n",
      "dbytes               float64\n",
      "sttl                 float64\n",
      "dttl                 float64\n",
      "sloss                float64\n",
      "dloss                float64\n",
      "service               object\n",
      "sload                float64\n",
      "dload                float64\n",
      "spkts                float64\n",
      "dpkts                float64\n",
      "swin                 float64\n",
      "dwin                 float64\n",
      "stcpb                float64\n",
      "dtcpb                float64\n",
      "smean                float64\n",
      "dmean                float64\n",
      "trans_depth          float64\n",
      "response_body_len    float64\n",
      "proto                 object\n",
      "sjit                 float64\n",
      "djit                 float64\n",
      "sinpkt               float64\n",
      "dinpkt               float64\n",
      "tcprtt               float64\n",
      "synack               float64\n",
      "ackdat               float64\n",
      "attack_cat            object\n"
     ]
    },
    {
     "data": {
      "text/markdown": [
       "### 3. Feature Type"
      ],
      "text/plain": [
       "<IPython.core.display.Markdown object>"
      ]
     },
     "metadata": {},
     "output_type": "display_data"
    },
    {
     "name": "stdout",
     "output_type": "stream",
     "text": [
      "Categorical Columns: ['state', 'service', 'proto']\n",
      "Non-Categorical Columns: ['dur', 'sbytes', 'dbytes', 'sttl', 'dttl', 'sloss', 'dloss', 'sload', 'dload', 'spkts', 'dpkts', 'swin', 'dwin', 'stcpb', 'dtcpb', 'smean', 'dmean', 'trans_depth', 'response_body_len', 'sjit', 'djit', 'sinpkt', 'dinpkt', 'tcprtt', 'synack', 'ackdat']\n"
     ]
    },
    {
     "data": {
      "text/markdown": [
       "### 4. Missing Values"
      ],
      "text/plain": [
       "<IPython.core.display.Markdown object>"
      ]
     },
     "metadata": {},
     "output_type": "display_data"
    },
    {
     "name": "stdout",
     "output_type": "stream",
     "text": [
      "                   Missing Values  Percentage\n",
      "dloss                        8978    5.120308\n",
      "dbytes                       8869    5.058144\n",
      "dmean                        8855    5.050159\n",
      "djit                         8846    5.045027\n",
      "dload                        8837    5.039894\n",
      "tcprtt                       8836    5.039323\n",
      "proto                        8826    5.033620\n",
      "sttl                         8825    5.033050\n",
      "state                        8805    5.021644\n",
      "dtcpb                        8803    5.020503\n",
      "sloss                        8794    5.015370\n",
      "service                      8791    5.013659\n",
      "response_body_len            8791    5.013659\n",
      "smean                        8788    5.011948\n",
      "sload                        8786    5.010808\n",
      "trans_depth                  8785    5.010237\n",
      "dwin                         8779    5.006815\n",
      "swin                         8740    4.984573\n",
      "sjit                         8738    4.983432\n",
      "synack                       8736    4.982292\n",
      "dinpkt                       8734    4.981151\n",
      "dur                          8722    4.974307\n",
      "sinpkt                       8707    4.965752\n",
      "dpkts                        8686    4.953776\n",
      "stcpb                        8672    4.945791\n",
      "spkts                        8654    4.935526\n",
      "dttl                         8654    4.935526\n",
      "ackdat                       8595    4.901877\n",
      "sbytes                       8561    4.882486\n",
      "attack_cat                      0    0.000000\n"
     ]
    },
    {
     "data": {
      "text/markdown": [
       "### 5. Value Distribution"
      ],
      "text/plain": [
       "<IPython.core.display.Markdown object>"
      ]
     },
     "metadata": {},
     "output_type": "display_data"
    },
    {
     "name": "stdout",
     "output_type": "stream",
     "text": [
      "\n",
      "Distribution for 'state':\n",
      "state\n",
      "INT    78148\n",
      "FIN    73925\n",
      "CON    12481\n",
      "REQ     1889\n",
      "RST       78\n",
      "ECO       12\n",
      "URN        1\n",
      "PAR        1\n",
      "no         1\n",
      "Name: count, dtype: int64\n",
      "\n",
      "Distribution for 'service':\n",
      "service\n",
      "-           89434\n",
      "dns         44909\n",
      "http        17784\n",
      "smtp         4815\n",
      "ftp-data     3795\n",
      "ftp          3263\n",
      "ssh          1242\n",
      "pop3         1054\n",
      "dhcp           93\n",
      "snmp           75\n",
      "ssl            51\n",
      "irc            25\n",
      "radius         10\n",
      "Name: count, dtype: int64\n",
      "\n",
      "Distribution for 'proto':\n",
      "proto\n",
      "tcp       75902\n",
      "udp       60105\n",
      "unas      11480\n",
      "arp        2726\n",
      "ospf       2468\n",
      "          ...  \n",
      "visa         89\n",
      "leaf-2       89\n",
      "igmp         18\n",
      "icmp         13\n",
      "rtp           1\n",
      "Name: count, Length: 133, dtype: int64\n",
      "\n",
      "Summary statistics for 'dur':\n",
      "count    166619.000000\n",
      "mean          1.359299\n",
      "std           6.485386\n",
      "min           0.000000\n",
      "25%           0.000008\n",
      "50%           0.001548\n",
      "75%           0.667311\n",
      "max          59.999989\n",
      "Name: dur, dtype: float64\n",
      "\n",
      "Summary statistics for 'sbytes':\n",
      "count    1.667800e+05\n",
      "mean     8.734079e+03\n",
      "std      1.712289e+05\n",
      "min      2.800000e+01\n",
      "25%      1.140000e+02\n",
      "50%      4.500000e+02\n",
      "75%      1.418000e+03\n",
      "max      1.296523e+07\n",
      "Name: sbytes, dtype: float64\n",
      "\n",
      "Summary statistics for 'dbytes':\n",
      "count    1.664720e+05\n",
      "mean     1.493589e+04\n",
      "std      1.430150e+05\n",
      "min      0.000000e+00\n",
      "25%      0.000000e+00\n",
      "50%      1.640000e+02\n",
      "75%      1.096000e+03\n",
      "max      1.465555e+07\n",
      "Name: dbytes, dtype: float64\n",
      "\n",
      "Summary statistics for 'sttl':\n",
      "count    166516.000000\n",
      "mean        179.521944\n",
      "std         102.957427\n",
      "min           0.000000\n",
      "25%          62.000000\n",
      "50%         254.000000\n",
      "75%         254.000000\n",
      "max         255.000000\n",
      "Name: sttl, dtype: float64\n",
      "\n",
      "Summary statistics for 'dttl':\n",
      "count    166687.000000\n",
      "mean         79.584179\n",
      "std         110.494848\n",
      "min           0.000000\n",
      "25%           0.000000\n",
      "50%          29.000000\n",
      "75%         252.000000\n",
      "max         254.000000\n",
      "Name: dttl, dtype: float64\n",
      "\n",
      "Summary statistics for 'sloss':\n",
      "count    166547.000000\n",
      "mean          4.904790\n",
      "std          64.867849\n",
      "min           0.000000\n",
      "25%           0.000000\n",
      "50%           0.000000\n",
      "75%           3.000000\n",
      "max        4803.000000\n",
      "Name: sloss, dtype: float64\n",
      "\n",
      "Summary statistics for 'dloss':\n",
      "count    166363.000000\n",
      "mean          6.971688\n",
      "std          51.801936\n",
      "min           0.000000\n",
      "25%           0.000000\n",
      "50%           0.000000\n",
      "75%           2.000000\n",
      "max        5484.000000\n",
      "Name: dloss, dtype: float64\n",
      "\n",
      "Summary statistics for 'sload':\n",
      "count    1.665550e+05\n",
      "mean     7.342186e+07\n",
      "std      1.884564e+08\n",
      "min      0.000000e+00\n",
      "25%      1.303032e+04\n",
      "50%      8.714544e+05\n",
      "75%      8.888889e+07\n",
      "max      5.988000e+09\n",
      "Name: sload, dtype: float64\n",
      "\n",
      "Summary statistics for 'dload':\n",
      "count    1.665040e+05\n",
      "mean     6.718596e+05\n",
      "std      2.422879e+06\n",
      "min      0.000000e+00\n",
      "25%      0.000000e+00\n",
      "50%      1.426630e+03\n",
      "75%      2.807410e+04\n",
      "max      2.242273e+07\n",
      "Name: dload, dtype: float64\n",
      "\n",
      "Summary statistics for 'spkts':\n",
      "count    166687.000000\n",
      "mean         20.266134\n",
      "std         136.433895\n",
      "min           1.000000\n",
      "25%           2.000000\n",
      "50%           2.000000\n",
      "75%          12.000000\n",
      "max        9616.000000\n",
      "Name: spkts, dtype: float64\n",
      "\n",
      "Summary statistics for 'dpkts':\n",
      "count    166655.000000\n",
      "mean         18.923015\n",
      "std         110.898133\n",
      "min           0.000000\n",
      "25%           0.000000\n",
      "50%           2.000000\n",
      "75%          10.000000\n",
      "max       10974.000000\n",
      "Name: dpkts, dtype: float64\n",
      "\n",
      "Summary statistics for 'swin':\n",
      "count    166601.000000\n",
      "mean        116.184837\n",
      "std         126.994753\n",
      "min           0.000000\n",
      "25%           0.000000\n",
      "50%           0.000000\n",
      "75%         255.000000\n",
      "max         255.000000\n",
      "Name: swin, dtype: float64\n",
      "\n",
      "Summary statistics for 'dwin':\n",
      "count    166562.000000\n",
      "mean        114.956407\n",
      "std         126.880855\n",
      "min           0.000000\n",
      "25%           0.000000\n",
      "50%           0.000000\n",
      "75%         255.000000\n",
      "max         255.000000\n",
      "Name: dwin, dtype: float64\n",
      "\n",
      "Summary statistics for 'stcpb':\n",
      "count    1.666690e+05\n",
      "mean     9.696210e+08\n",
      "std      1.355284e+09\n",
      "min      0.000000e+00\n",
      "25%      0.000000e+00\n",
      "50%      0.000000e+00\n",
      "75%      1.915654e+09\n",
      "max      4.294959e+09\n",
      "Name: stcpb, dtype: float64\n",
      "\n",
      "Summary statistics for 'dtcpb':\n",
      "count    1.665380e+05\n",
      "mean     9.693479e+08\n",
      "std      1.354113e+09\n",
      "min      0.000000e+00\n",
      "25%      0.000000e+00\n",
      "50%      0.000000e+00\n",
      "75%      1.912673e+09\n",
      "max      4.294882e+09\n",
      "Name: dtcpb, dtype: float64\n",
      "\n",
      "Summary statistics for 'smean':\n",
      "count    166553.000000\n",
      "mean        136.803840\n",
      "std         204.753194\n",
      "min          28.000000\n",
      "25%          57.000000\n",
      "50%          73.000000\n",
      "75%         100.000000\n",
      "max        1504.000000\n",
      "Name: smean, dtype: float64\n",
      "\n",
      "Summary statistics for 'dmean':\n",
      "count    166486.000000\n",
      "mean        124.161041\n",
      "std         258.265755\n",
      "min           0.000000\n",
      "25%           0.000000\n",
      "50%          44.000000\n",
      "75%          89.000000\n",
      "max        1458.000000\n",
      "Name: dmean, dtype: float64\n",
      "\n",
      "Summary statistics for 'trans_depth':\n",
      "count    166556.000000\n",
      "mean          0.106193\n",
      "std           0.794070\n",
      "min           0.000000\n",
      "25%           0.000000\n",
      "50%           0.000000\n",
      "75%           0.000000\n",
      "max         172.000000\n",
      "Name: trans_depth, dtype: float64\n",
      "\n",
      "Summary statistics for 'response_body_len':\n",
      "count    1.665500e+05\n",
      "mean     2.157133e+03\n",
      "std      5.509898e+04\n",
      "min      0.000000e+00\n",
      "25%      0.000000e+00\n",
      "50%      0.000000e+00\n",
      "75%      0.000000e+00\n",
      "max      6.558056e+06\n",
      "Name: response_body_len, dtype: float64\n",
      "\n",
      "Summary statistics for 'sjit':\n",
      "count    1.666030e+05\n",
      "mean     4.993982e+03\n",
      "std      4.506783e+04\n",
      "min      0.000000e+00\n",
      "25%      0.000000e+00\n",
      "50%      0.000000e+00\n",
      "75%      2.511184e+03\n",
      "max      1.460480e+06\n",
      "Name: sjit, dtype: float64\n",
      "\n",
      "Summary statistics for 'djit':\n",
      "count    166495.000000\n",
      "mean        604.891720\n",
      "std        4082.439167\n",
      "min           0.000000\n",
      "25%           0.000000\n",
      "50%           0.000000\n",
      "75%         114.753348\n",
      "max      289388.269700\n",
      "Name: djit, dtype: float64\n",
      "\n",
      "Summary statistics for 'sinpkt':\n",
      "count    166634.000000\n",
      "mean        987.360974\n",
      "std        7246.462797\n",
      "min           0.000000\n",
      "25%           0.008000\n",
      "50%           0.284723\n",
      "75%          55.205806\n",
      "max       84371.496000\n",
      "Name: sinpkt, dtype: float64\n",
      "\n",
      "Summary statistics for 'dinpkt':\n",
      "count    166607.000000\n",
      "mean         87.763617\n",
      "std         987.040024\n",
      "min           0.000000\n",
      "25%           0.000000\n",
      "50%           0.006000\n",
      "75%          50.933127\n",
      "max       56716.824000\n",
      "Name: dinpkt, dtype: float64\n",
      "\n",
      "Summary statistics for 'tcprtt':\n",
      "count    166505.000000\n",
      "mean          0.041331\n",
      "std           0.079428\n",
      "min           0.000000\n",
      "25%           0.000000\n",
      "50%           0.000000\n",
      "75%           0.065151\n",
      "max           2.518893\n",
      "Name: tcprtt, dtype: float64\n",
      "\n",
      "Summary statistics for 'synack':\n",
      "count    166605.000000\n",
      "mean          0.021042\n",
      "std           0.043560\n",
      "min           0.000000\n",
      "25%           0.000000\n",
      "50%           0.000000\n",
      "75%           0.023235\n",
      "max           2.100352\n",
      "Name: synack, dtype: float64\n",
      "\n",
      "Summary statistics for 'ackdat':\n",
      "count    166746.000000\n",
      "mean          0.020402\n",
      "std           0.040619\n",
      "min           0.000000\n",
      "25%           0.000000\n",
      "50%           0.000000\n",
      "75%           0.038951\n",
      "max           1.520884\n",
      "Name: ackdat, dtype: float64\n"
     ]
    },
    {
     "data": {
      "text/markdown": [
       "### 6. Outliers"
      ],
      "text/plain": [
       "<IPython.core.display.Markdown object>"
      ]
     },
     "metadata": {},
     "output_type": "display_data"
    },
    {
     "name": "stdout",
     "output_type": "stream",
     "text": [
      "\n",
      "Outliers detection for 'dur':\n",
      "Number of outliers: 14968 | Percentage of outliers: 8.54%\n",
      "\n",
      "Outliers detection for 'sbytes':\n",
      "Number of outliers: 21760 | Percentage of outliers: 12.41%\n",
      "\n",
      "Outliers detection for 'dbytes':\n",
      "Number of outliers: 26698 | Percentage of outliers: 15.23%\n",
      "\n",
      "Outliers detection for 'sttl':\n",
      "Number of outliers: 0 | Percentage of outliers: 0.00%\n",
      "\n",
      "Outliers detection for 'dttl':\n",
      "Number of outliers: 0 | Percentage of outliers: 0.00%\n",
      "\n",
      "Outliers detection for 'sloss':\n",
      "Number of outliers: 10879 | Percentage of outliers: 6.20%\n",
      "\n",
      "Outliers detection for 'dloss':\n",
      "Number of outliers: 26996 | Percentage of outliers: 15.40%\n",
      "\n",
      "Outliers detection for 'sload':\n",
      "Number of outliers: 12843 | Percentage of outliers: 7.32%\n",
      "\n",
      "Outliers detection for 'dload':\n",
      "Number of outliers: 36132 | Percentage of outliers: 20.61%\n",
      "\n",
      "Outliers detection for 'spkts':\n",
      "Number of outliers: 23470 | Percentage of outliers: 13.39%\n",
      "\n",
      "Outliers detection for 'dpkts':\n",
      "Number of outliers: 19752 | Percentage of outliers: 11.26%\n",
      "\n",
      "Outliers detection for 'swin':\n",
      "Number of outliers: 0 | Percentage of outliers: 0.00%\n",
      "\n",
      "Outliers detection for 'dwin':\n",
      "Number of outliers: 0 | Percentage of outliers: 0.00%\n",
      "\n",
      "Outliers detection for 'stcpb':\n",
      "Number of outliers: 0 | Percentage of outliers: 0.00%\n",
      "\n",
      "Outliers detection for 'dtcpb':\n",
      "Number of outliers: 0 | Percentage of outliers: 0.00%\n",
      "\n",
      "Outliers detection for 'smean':\n",
      "Number of outliers: 19690 | Percentage of outliers: 11.23%\n",
      "\n",
      "Outliers detection for 'dmean':\n",
      "Number of outliers: 22185 | Percentage of outliers: 12.65%\n",
      "\n",
      "Outliers detection for 'trans_depth':\n",
      "Number of outliers: 16948 | Percentage of outliers: 9.67%\n",
      "\n",
      "Outliers detection for 'response_body_len':\n",
      "Number of outliers: 10723 | Percentage of outliers: 6.12%\n",
      "\n",
      "Outliers detection for 'sjit':\n",
      "Number of outliers: 17146 | Percentage of outliers: 9.78%\n",
      "\n",
      "Outliers detection for 'djit':\n",
      "Number of outliers: 19538 | Percentage of outliers: 11.14%\n",
      "\n",
      "Outliers detection for 'sinpkt':\n",
      "Number of outliers: 14034 | Percentage of outliers: 8.00%\n",
      "\n",
      "Outliers detection for 'dinpkt':\n",
      "Number of outliers: 13409 | Percentage of outliers: 7.65%\n",
      "\n",
      "Outliers detection for 'tcprtt':\n",
      "Number of outliers: 15228 | Percentage of outliers: 8.68%\n",
      "\n",
      "Outliers detection for 'synack':\n",
      "Number of outliers: 29934 | Percentage of outliers: 17.07%\n",
      "\n",
      "Outliers detection for 'ackdat':\n",
      "Number of outliers: 7878 | Percentage of outliers: 4.49%\n"
     ]
    },
    {
     "data": {
      "text/markdown": [
       "### 7. Amount of Unique Values in Categorical Features"
      ],
      "text/plain": [
       "<IPython.core.display.Markdown object>"
      ]
     },
     "metadata": {},
     "output_type": "display_data"
    },
    {
     "name": "stdout",
     "output_type": "stream",
     "text": [
      "Column state: 9\n",
      "Column service: 13\n",
      "Column proto: 133\n"
     ]
    },
    {
     "data": {
      "text/markdown": [
       "### 8. Mean, Median, Average, Min, Max for Numerical Features"
      ],
      "text/plain": [
       "<IPython.core.display.Markdown object>"
      ]
     },
     "metadata": {},
     "output_type": "display_data"
    },
    {
     "data": {
      "text/html": [
       "<div>\n",
       "<style scoped>\n",
       "    .dataframe tbody tr th:only-of-type {\n",
       "        vertical-align: middle;\n",
       "    }\n",
       "\n",
       "    .dataframe tbody tr th {\n",
       "        vertical-align: top;\n",
       "    }\n",
       "\n",
       "    .dataframe thead th {\n",
       "        text-align: right;\n",
       "    }\n",
       "</style>\n",
       "<table border=\"1\" class=\"dataframe\">\n",
       "  <thead>\n",
       "    <tr style=\"text-align: right;\">\n",
       "      <th></th>\n",
       "      <th>dur</th>\n",
       "      <th>sbytes</th>\n",
       "      <th>dbytes</th>\n",
       "      <th>sttl</th>\n",
       "      <th>dttl</th>\n",
       "      <th>sloss</th>\n",
       "      <th>dloss</th>\n",
       "      <th>sload</th>\n",
       "      <th>dload</th>\n",
       "      <th>spkts</th>\n",
       "      <th>...</th>\n",
       "      <th>dmean</th>\n",
       "      <th>trans_depth</th>\n",
       "      <th>response_body_len</th>\n",
       "      <th>sjit</th>\n",
       "      <th>djit</th>\n",
       "      <th>sinpkt</th>\n",
       "      <th>dinpkt</th>\n",
       "      <th>tcprtt</th>\n",
       "      <th>synack</th>\n",
       "      <th>ackdat</th>\n",
       "    </tr>\n",
       "  </thead>\n",
       "  <tbody>\n",
       "    <tr>\n",
       "      <th>count</th>\n",
       "      <td>166619.000000</td>\n",
       "      <td>1.667800e+05</td>\n",
       "      <td>1.664720e+05</td>\n",
       "      <td>166516.000000</td>\n",
       "      <td>166687.000000</td>\n",
       "      <td>166547.000000</td>\n",
       "      <td>166363.000000</td>\n",
       "      <td>1.665550e+05</td>\n",
       "      <td>1.665040e+05</td>\n",
       "      <td>166687.000000</td>\n",
       "      <td>...</td>\n",
       "      <td>166486.000000</td>\n",
       "      <td>166556.000000</td>\n",
       "      <td>1.665500e+05</td>\n",
       "      <td>1.666030e+05</td>\n",
       "      <td>166495.000000</td>\n",
       "      <td>166634.000000</td>\n",
       "      <td>166607.000000</td>\n",
       "      <td>166505.000000</td>\n",
       "      <td>166605.000000</td>\n",
       "      <td>166746.000000</td>\n",
       "    </tr>\n",
       "    <tr>\n",
       "      <th>mean</th>\n",
       "      <td>1.359299</td>\n",
       "      <td>8.734079e+03</td>\n",
       "      <td>1.493589e+04</td>\n",
       "      <td>179.521944</td>\n",
       "      <td>79.584179</td>\n",
       "      <td>4.904790</td>\n",
       "      <td>6.971688</td>\n",
       "      <td>7.342186e+07</td>\n",
       "      <td>6.718596e+05</td>\n",
       "      <td>20.266134</td>\n",
       "      <td>...</td>\n",
       "      <td>124.161041</td>\n",
       "      <td>0.106193</td>\n",
       "      <td>2.157133e+03</td>\n",
       "      <td>4.993982e+03</td>\n",
       "      <td>604.891720</td>\n",
       "      <td>987.360974</td>\n",
       "      <td>87.763617</td>\n",
       "      <td>0.041331</td>\n",
       "      <td>0.021042</td>\n",
       "      <td>0.020402</td>\n",
       "    </tr>\n",
       "    <tr>\n",
       "      <th>std</th>\n",
       "      <td>6.485386</td>\n",
       "      <td>1.712289e+05</td>\n",
       "      <td>1.430150e+05</td>\n",
       "      <td>102.957427</td>\n",
       "      <td>110.494848</td>\n",
       "      <td>64.867849</td>\n",
       "      <td>51.801936</td>\n",
       "      <td>1.884564e+08</td>\n",
       "      <td>2.422879e+06</td>\n",
       "      <td>136.433895</td>\n",
       "      <td>...</td>\n",
       "      <td>258.265755</td>\n",
       "      <td>0.794070</td>\n",
       "      <td>5.509898e+04</td>\n",
       "      <td>4.506783e+04</td>\n",
       "      <td>4082.439167</td>\n",
       "      <td>7246.462797</td>\n",
       "      <td>987.040024</td>\n",
       "      <td>0.079428</td>\n",
       "      <td>0.043560</td>\n",
       "      <td>0.040619</td>\n",
       "    </tr>\n",
       "    <tr>\n",
       "      <th>min</th>\n",
       "      <td>0.000000</td>\n",
       "      <td>2.800000e+01</td>\n",
       "      <td>0.000000e+00</td>\n",
       "      <td>0.000000</td>\n",
       "      <td>0.000000</td>\n",
       "      <td>0.000000</td>\n",
       "      <td>0.000000</td>\n",
       "      <td>0.000000e+00</td>\n",
       "      <td>0.000000e+00</td>\n",
       "      <td>1.000000</td>\n",
       "      <td>...</td>\n",
       "      <td>0.000000</td>\n",
       "      <td>0.000000</td>\n",
       "      <td>0.000000e+00</td>\n",
       "      <td>0.000000e+00</td>\n",
       "      <td>0.000000</td>\n",
       "      <td>0.000000</td>\n",
       "      <td>0.000000</td>\n",
       "      <td>0.000000</td>\n",
       "      <td>0.000000</td>\n",
       "      <td>0.000000</td>\n",
       "    </tr>\n",
       "    <tr>\n",
       "      <th>25%</th>\n",
       "      <td>0.000008</td>\n",
       "      <td>1.140000e+02</td>\n",
       "      <td>0.000000e+00</td>\n",
       "      <td>62.000000</td>\n",
       "      <td>0.000000</td>\n",
       "      <td>0.000000</td>\n",
       "      <td>0.000000</td>\n",
       "      <td>1.303032e+04</td>\n",
       "      <td>0.000000e+00</td>\n",
       "      <td>2.000000</td>\n",
       "      <td>...</td>\n",
       "      <td>0.000000</td>\n",
       "      <td>0.000000</td>\n",
       "      <td>0.000000e+00</td>\n",
       "      <td>0.000000e+00</td>\n",
       "      <td>0.000000</td>\n",
       "      <td>0.008000</td>\n",
       "      <td>0.000000</td>\n",
       "      <td>0.000000</td>\n",
       "      <td>0.000000</td>\n",
       "      <td>0.000000</td>\n",
       "    </tr>\n",
       "    <tr>\n",
       "      <th>50%</th>\n",
       "      <td>0.001548</td>\n",
       "      <td>4.500000e+02</td>\n",
       "      <td>1.640000e+02</td>\n",
       "      <td>254.000000</td>\n",
       "      <td>29.000000</td>\n",
       "      <td>0.000000</td>\n",
       "      <td>0.000000</td>\n",
       "      <td>8.714544e+05</td>\n",
       "      <td>1.426630e+03</td>\n",
       "      <td>2.000000</td>\n",
       "      <td>...</td>\n",
       "      <td>44.000000</td>\n",
       "      <td>0.000000</td>\n",
       "      <td>0.000000e+00</td>\n",
       "      <td>0.000000e+00</td>\n",
       "      <td>0.000000</td>\n",
       "      <td>0.284723</td>\n",
       "      <td>0.006000</td>\n",
       "      <td>0.000000</td>\n",
       "      <td>0.000000</td>\n",
       "      <td>0.000000</td>\n",
       "    </tr>\n",
       "    <tr>\n",
       "      <th>75%</th>\n",
       "      <td>0.667311</td>\n",
       "      <td>1.418000e+03</td>\n",
       "      <td>1.096000e+03</td>\n",
       "      <td>254.000000</td>\n",
       "      <td>252.000000</td>\n",
       "      <td>3.000000</td>\n",
       "      <td>2.000000</td>\n",
       "      <td>8.888889e+07</td>\n",
       "      <td>2.807410e+04</td>\n",
       "      <td>12.000000</td>\n",
       "      <td>...</td>\n",
       "      <td>89.000000</td>\n",
       "      <td>0.000000</td>\n",
       "      <td>0.000000e+00</td>\n",
       "      <td>2.511184e+03</td>\n",
       "      <td>114.753348</td>\n",
       "      <td>55.205806</td>\n",
       "      <td>50.933127</td>\n",
       "      <td>0.065151</td>\n",
       "      <td>0.023235</td>\n",
       "      <td>0.038951</td>\n",
       "    </tr>\n",
       "    <tr>\n",
       "      <th>max</th>\n",
       "      <td>59.999989</td>\n",
       "      <td>1.296523e+07</td>\n",
       "      <td>1.465555e+07</td>\n",
       "      <td>255.000000</td>\n",
       "      <td>254.000000</td>\n",
       "      <td>4803.000000</td>\n",
       "      <td>5484.000000</td>\n",
       "      <td>5.988000e+09</td>\n",
       "      <td>2.242273e+07</td>\n",
       "      <td>9616.000000</td>\n",
       "      <td>...</td>\n",
       "      <td>1458.000000</td>\n",
       "      <td>172.000000</td>\n",
       "      <td>6.558056e+06</td>\n",
       "      <td>1.460480e+06</td>\n",
       "      <td>289388.269700</td>\n",
       "      <td>84371.496000</td>\n",
       "      <td>56716.824000</td>\n",
       "      <td>2.518893</td>\n",
       "      <td>2.100352</td>\n",
       "      <td>1.520884</td>\n",
       "    </tr>\n",
       "  </tbody>\n",
       "</table>\n",
       "<p>8 rows × 26 columns</p>\n",
       "</div>"
      ],
      "text/plain": [
       "                 dur        sbytes        dbytes           sttl  \\\n",
       "count  166619.000000  1.667800e+05  1.664720e+05  166516.000000   \n",
       "mean        1.359299  8.734079e+03  1.493589e+04     179.521944   \n",
       "std         6.485386  1.712289e+05  1.430150e+05     102.957427   \n",
       "min         0.000000  2.800000e+01  0.000000e+00       0.000000   \n",
       "25%         0.000008  1.140000e+02  0.000000e+00      62.000000   \n",
       "50%         0.001548  4.500000e+02  1.640000e+02     254.000000   \n",
       "75%         0.667311  1.418000e+03  1.096000e+03     254.000000   \n",
       "max        59.999989  1.296523e+07  1.465555e+07     255.000000   \n",
       "\n",
       "                dttl          sloss          dloss         sload  \\\n",
       "count  166687.000000  166547.000000  166363.000000  1.665550e+05   \n",
       "mean       79.584179       4.904790       6.971688  7.342186e+07   \n",
       "std       110.494848      64.867849      51.801936  1.884564e+08   \n",
       "min         0.000000       0.000000       0.000000  0.000000e+00   \n",
       "25%         0.000000       0.000000       0.000000  1.303032e+04   \n",
       "50%        29.000000       0.000000       0.000000  8.714544e+05   \n",
       "75%       252.000000       3.000000       2.000000  8.888889e+07   \n",
       "max       254.000000    4803.000000    5484.000000  5.988000e+09   \n",
       "\n",
       "              dload          spkts  ...          dmean    trans_depth  \\\n",
       "count  1.665040e+05  166687.000000  ...  166486.000000  166556.000000   \n",
       "mean   6.718596e+05      20.266134  ...     124.161041       0.106193   \n",
       "std    2.422879e+06     136.433895  ...     258.265755       0.794070   \n",
       "min    0.000000e+00       1.000000  ...       0.000000       0.000000   \n",
       "25%    0.000000e+00       2.000000  ...       0.000000       0.000000   \n",
       "50%    1.426630e+03       2.000000  ...      44.000000       0.000000   \n",
       "75%    2.807410e+04      12.000000  ...      89.000000       0.000000   \n",
       "max    2.242273e+07    9616.000000  ...    1458.000000     172.000000   \n",
       "\n",
       "       response_body_len          sjit           djit         sinpkt  \\\n",
       "count       1.665500e+05  1.666030e+05  166495.000000  166634.000000   \n",
       "mean        2.157133e+03  4.993982e+03     604.891720     987.360974   \n",
       "std         5.509898e+04  4.506783e+04    4082.439167    7246.462797   \n",
       "min         0.000000e+00  0.000000e+00       0.000000       0.000000   \n",
       "25%         0.000000e+00  0.000000e+00       0.000000       0.008000   \n",
       "50%         0.000000e+00  0.000000e+00       0.000000       0.284723   \n",
       "75%         0.000000e+00  2.511184e+03     114.753348      55.205806   \n",
       "max         6.558056e+06  1.460480e+06  289388.269700   84371.496000   \n",
       "\n",
       "              dinpkt         tcprtt         synack         ackdat  \n",
       "count  166607.000000  166505.000000  166605.000000  166746.000000  \n",
       "mean       87.763617       0.041331       0.021042       0.020402  \n",
       "std       987.040024       0.079428       0.043560       0.040619  \n",
       "min         0.000000       0.000000       0.000000       0.000000  \n",
       "25%         0.000000       0.000000       0.000000       0.000000  \n",
       "50%         0.006000       0.000000       0.000000       0.000000  \n",
       "75%        50.933127       0.065151       0.023235       0.038951  \n",
       "max     56716.824000       2.518893       2.100352       1.520884  \n",
       "\n",
       "[8 rows x 26 columns]"
      ]
     },
     "execution_count": 3,
     "metadata": {},
     "output_type": "execute_result"
    }
   ],
   "source": [
    "### 1. Data Size\n",
    "print_markdown(\"### 1. Data Size\")\n",
    "print(f\"Number of instances: {df.shape[0]} | Number of features: {df.shape[1] - 1}\")\n",
    "print(f\"Target class: attack_cat\")\n",
    "\n",
    "### 2. Data Types\n",
    "print_markdown(\"### 2. Data Types\")\n",
    "print(df.dtypes.to_string())\n",
    "\n",
    "### 3. Feature Type\n",
    "print_markdown(\"### 3. Feature Type\")\n",
    "# Setup categorical column for each dataframes\n",
    "categorical_features: list[str] = ['state', 'service', 'proto']\n",
    "\n",
    "target_col: list[str] = ['attack_cat']\n",
    "\n",
    "numerical_features: list[str] = [col for col in df.columns if col not in categorical_features and col not in target_col and col != 'id']\n",
    "\n",
    "print(\"Categorical Columns:\", categorical_features)\n",
    "print(\"Non-Categorical Columns:\", numerical_features)\n",
    "\n",
    "### 4. Missing Values\n",
    "print_markdown(\"### 4. Missing Values\")\n",
    "missing_counts = df.isnull().sum()\n",
    "total_rows = len(df)\n",
    "\n",
    "# Calculate the percentage of missing data for each column\n",
    "missing_percentage = (missing_counts / total_rows) * 100\n",
    "\n",
    "missing_data_summary = pd.DataFrame({'Missing Values': missing_counts, 'Percentage': missing_percentage})\n",
    "\n",
    "# Sort by the percentage of missing data (optional)\n",
    "missing_data_summary = missing_data_summary.sort_values(by='Percentage', ascending=False)\n",
    "\n",
    "print(missing_data_summary)\n",
    "\n",
    "### 5. Value Distribution\n",
    "print_markdown(\"### 5. Value Distribution\")\n",
    "\n",
    "# Distribution for categorical columns (value counts)\n",
    "for col in categorical_features:\n",
    "    print(f\"\\nDistribution for '{col}':\")\n",
    "    print(df[col].dropna().value_counts())\n",
    "\n",
    "# Distribution for numerical columns (summary statistics)\n",
    "for col in numerical_features:\n",
    "    print(f\"\\nSummary statistics for '{col}':\")\n",
    "    print(df[col].describe())\n",
    "\n",
    "### 6. Outliers\n",
    "print_markdown(\"### 6. Outliers\")\n",
    "\n",
    "# Outlier detection for numerical features (IQR method)\n",
    "for col in numerical_features:\n",
    "    print(f\"\\nOutliers detection for '{col}':\")\n",
    "\n",
    "    # Calculate Q1, Q3, and IQR\n",
    "    Q1 = df[col].quantile(0.25)\n",
    "    Q3 = df[col].quantile(0.75)\n",
    "    IQR = Q3 - Q1\n",
    "    lower_bound = Q1 - 1.5 * IQR\n",
    "    upper_bound = Q3 + 1.5 * IQR\n",
    "\n",
    "    # Identifying outliers\n",
    "    outliers = df[(df[col] < lower_bound) | (df[col] > upper_bound)]\n",
    "    outlier_count = outliers.shape[0]\n",
    "    outlier_percentage = (outlier_count / total_rows) * 100\n",
    "\n",
    "    print(f\"Number of outliers: {outlier_count} | Percentage of outliers: {outlier_percentage:.2f}%\")\n",
    "\n",
    "### 7. Amount of Unique Values in Categorical Features\n",
    "print_markdown(\"### 7. Amount of Unique Values in Categorical Features\")\n",
    "for col in categorical_features:\n",
    "    print(f\"Column {col}: {df[col].dropna().nunique()}\")\n",
    "\n",
    "### 8. Central Tendency and Dispersion for Numerical Features\n",
    "print_markdown(\"### 8. Mean, Median, Average, Min, Max for Numerical Features\")\n",
    "\n",
    "# For each numerical feature, calculate mean, median, min, max, standard deviation, and variance\n",
    "df[numerical_features].describe()\n",
    "\n"
   ]
  },
  {
   "cell_type": "markdown",
   "metadata": {
    "id": "gvx-gT3bLfHM"
   },
   "source": [
    "|# 1. Split Training Set and Validation Set\n",
    "\n",
    "Splitting the training and validation set works as an early diagnostic towards the performance of the model we train. This is done before the preprocessing steps to **avoid data leakage inbetween the sets**. If you want to use k-fold cross-validation, split the data later and do the cleaning and preprocessing separately for each split.\n",
    "\n",
    "Note: For training, you should use the data contained in the `train` folder given by the TA. The `test` data is only used for kaggle submission."
   ]
  },
  {
   "cell_type": "markdown",
   "metadata": {},
   "source": [
    "#### This will be done later since we are using k-fold cross validation"
   ]
  },
  {
   "cell_type": "markdown",
   "metadata": {
    "id": "IC14lmo_LfHN"
   },
   "source": [
    "# 2. Data Cleaning and Preprocessing\n",
    "\n",
    "This step is the first thing to be done once a Data Scientist have grasped a general knowledge of the data. Raw data is **seldom ready for training**, therefore steps need to be taken to clean and format the data for the Machine Learning model to interpret.\n",
    "\n",
    "By performing data cleaning and preprocessing, you ensure that your dataset is ready for model training, leading to more accurate and reliable machine learning results. These steps are essential for transforming raw data into a format that machine learning algorithms can effectively learn from and make predictions.\n",
    "\n",
    "We will give some common methods for you to try, but you only have to **at least implement one method for each process**. For each step that you will do, **please explain the reason why did you do that process. Write it in a markdown cell under the code cell you wrote.**"
   ]
  },
  {
   "cell_type": "markdown",
   "metadata": {
    "id": "p95_A8hSLfHY"
   },
   "source": [
    "## A. Data Cleaning\n",
    "\n",
    "**Data cleaning** is the crucial first step in preparing your dataset for machine learning. Raw data collected from various sources is often messy and may contain errors, missing values, and inconsistencies. Data cleaning involves the following steps:\n",
    "\n",
    "1. **Handling Missing Data:** Identify and address missing values in the dataset. This can include imputing missing values, removing rows or columns with excessive missing data, or using more advanced techniques like interpolation.\n",
    "\n",
    "2. **Dealing with Outliers:** Identify and handle outliers, which are data points significantly different from the rest of the dataset. Outliers can be removed or transformed to improve model performance.\n",
    "\n",
    "3. **Data Validation:** Check for data integrity and consistency. Ensure that data types are correct, categorical variables have consistent labels, and numerical values fall within expected ranges.\n",
    "\n",
    "4. **Removing Duplicates:** Identify and remove duplicate rows, as they can skew the model's training process and evaluation metrics.\n",
    "\n",
    "5. **Feature Engineering**: Create new features or modify existing ones to extract relevant information. This step can involve scaling, normalizing, or encoding features for better model interpretability."
   ]
  },
  {
   "cell_type": "markdown",
   "metadata": {
    "id": "_wruGao9LfHZ"
   },
   "source": [
    "### I. Handling Missing Data\n",
    "\n",
    "Missing data can adversely affect the performance and accuracy of machine learning models. There are several strategies to handle missing data in machine learning:\n",
    "\n",
    "1. **Data Imputation:**\n",
    "\n",
    "    a. **Mean, Median, or Mode Imputation:** For numerical features, you can replace missing values with the mean, median, or mode of the non-missing values in the same feature. This method is simple and often effective when data is missing at random.\n",
    "\n",
    "    b. **Constant Value Imputation:** You can replace missing values with a predefined constant value (e.g., 0) if it makes sense for your dataset and problem.\n",
    "\n",
    "    c. **Imputation Using Predictive Models:** More advanced techniques involve using predictive models to estimate missing values. For example, you can train a regression model to predict missing numerical values or a classification model to predict missing categorical values.\n",
    "\n",
    "2. **Deletion of Missing Data:**\n",
    "\n",
    "    a. **Listwise Deletion:** In cases where the amount of missing data is relatively small, you can simply remove rows with missing values from your dataset. However, this approach can lead to a loss of valuable information.\n",
    "\n",
    "    b. **Column (Feature) Deletion:** If a feature has a large number of missing values and is not critical for your analysis, you can consider removing that feature altogether.\n",
    "\n",
    "3. **Domain-Specific Strategies:**\n",
    "\n",
    "    a. **Domain Knowledge:** In some cases, domain knowledge can guide the imputation process. For example, if you know that missing values are related to a specific condition, you can impute them accordingly.\n",
    "\n",
    "4. **Imputation Libraries:**\n",
    "\n",
    "    a. **Scikit-Learn:** Scikit-Learn provides a `SimpleImputer` class that can handle basic imputation strategies like mean, median, and mode imputation.\n",
    "\n",
    "    b. **Fancyimpute:** Fancyimpute is a Python library that offers more advanced imputation techniques, including matrix factorization, k-nearest neighbors, and deep learning-based methods.\n",
    "\n",
    "The choice of imputation method should be guided by the nature of your data, the amount of missing data, the problem you are trying to solve, and the assumptions you are willing to make."
   ]
  },
  {
   "cell_type": "code",
   "execution_count": 4,
   "metadata": {
    "ExecuteTime": {
     "end_time": "2024-12-01T11:13:11.657413Z",
     "start_time": "2024-12-01T11:13:11.106658Z"
    },
    "id": "ucZNfCkiLfHZ"
   },
   "outputs": [
    {
     "data": {
      "text/markdown": [
       "#### Handling Missing Data by Imputation"
      ],
      "text/plain": [
       "<IPython.core.display.Markdown object>"
      ]
     },
     "metadata": {},
     "output_type": "display_data"
    },
    {
     "data": {
      "text/markdown": [
       "Since the percentage of missing values is relatively low around 5% for each features, thus having low impact on the actual data. To handle it, we will be using imputation by Mean for numerical features and Mode for categorical features.   "
      ],
      "text/plain": [
       "<IPython.core.display.Markdown object>"
      ]
     },
     "metadata": {},
     "output_type": "display_data"
    },
    {
     "data": {
      "text/markdown": [
       "Result:"
      ],
      "text/plain": [
       "<IPython.core.display.Markdown object>"
      ]
     },
     "metadata": {},
     "output_type": "display_data"
    },
    {
     "name": "stdout",
     "output_type": "stream",
     "text": [
      "state                0\n",
      "dur                  0\n",
      "sbytes               0\n",
      "dbytes               0\n",
      "sttl                 0\n",
      "dttl                 0\n",
      "sloss                0\n",
      "dloss                0\n",
      "service              0\n",
      "sload                0\n",
      "dload                0\n",
      "spkts                0\n",
      "dpkts                0\n",
      "swin                 0\n",
      "dwin                 0\n",
      "stcpb                0\n",
      "dtcpb                0\n",
      "smean                0\n",
      "dmean                0\n",
      "trans_depth          0\n",
      "response_body_len    0\n",
      "proto                0\n",
      "sjit                 0\n",
      "djit                 0\n",
      "sinpkt               0\n",
      "dinpkt               0\n",
      "tcprtt               0\n",
      "synack               0\n",
      "ackdat               0\n",
      "attack_cat           0\n",
      "dtype: int64\n"
     ]
    }
   ],
   "source": [
    "shape_before_cleaning = df.shape\n",
    "\n",
    "print_markdown(\"#### Handling Missing Data by Imputation\")\n",
    "print_markdown(\"Since the percentage of missing values is relatively low around 5% for each features, thus having low impact on the actual data. To handle it, we will be using imputation by Mean for numerical features and Mode for categorical features.   \")\n",
    "print_markdown(\"Result:\")\n",
    "\n",
    "# Impute missing values in numerical features with mean\n",
    "num_imputer = SimpleImputer(strategy='mean')\n",
    "df[numerical_features] = num_imputer.fit_transform(df[numerical_features])\n",
    "\n",
    "# Impute missing values in categorical features with mode\n",
    "cat_imputer = SimpleImputer(strategy='most_frequent')\n",
    "df[categorical_features] = cat_imputer.fit_transform(df[categorical_features])\n",
    "\n",
    "print(df.isnull().sum())"
   ]
  },
  {
   "cell_type": "markdown",
   "metadata": {
    "id": "zgrSMcK75VY_"
   },
   "source": [
    "### II. Dealing with Outliers\n",
    "\n",
    "Outliers are data points that significantly differ from the majority of the data. They can be unusually high or low values that do not fit the pattern of the rest of the dataset. Outliers can significantly impact model performance, so it is important to handle them properly.\n",
    "\n",
    "Some methods to handle outliers:\n",
    "1. **Imputation**: Replace with mean, median, or a boundary value.\n",
    "2. **Clipping**: Cap values to upper and lower limits.\n",
    "3. **Transformation**: Use log, square root, or power transformations to reduce their influence.\n",
    "4. **Model-Based**: Use algorithms robust to outliers (e.g., tree-based models, Huber regression)."
   ]
  },
  {
   "cell_type": "code",
   "execution_count": 5,
   "metadata": {
    "ExecuteTime": {
     "end_time": "2024-12-01T11:13:16.528844Z",
     "start_time": "2024-12-01T11:13:11.659621Z"
    },
    "id": "CgbZ6Lv17Uf0"
   },
   "outputs": [
    {
     "data": {
      "text/markdown": [
       "#### 1. Clipping"
      ],
      "text/plain": [
       "<IPython.core.display.Markdown object>"
      ]
     },
     "metadata": {},
     "output_type": "display_data"
    },
    {
     "name": "stdout",
     "output_type": "stream",
     "text": [
      "Values affected by clipping: 0 values\n",
      "Percentage of values removed by clipping: 0.00%\n"
     ]
    },
    {
     "data": {
      "text/markdown": [
       "#### 2. Model Based: Isolation Forest"
      ],
      "text/plain": [
       "<IPython.core.display.Markdown object>"
      ]
     },
     "metadata": {},
     "output_type": "display_data"
    },
    {
     "name": "stdout",
     "output_type": "stream",
     "text": [
      "Data removed by Isolation Forest: 8767 rows\n",
      "Data after applying both steps: 166574 rows\n"
     ]
    }
   ],
   "source": [
    "# 1. Clipping\n",
    "print_markdown(\"#### 1. Clipping\")\n",
    "\n",
    "values_before_clipping = df[numerical_features].count().sum()\n",
    "values_clipped = 0 \n",
    "for col in numerical_features:\n",
    "    Q1 = df[col].quantile(0.25)\n",
    "    Q3 = df[col].quantile(0.75)\n",
    "    IQR = Q3 - Q1\n",
    "\n",
    "    lower_bound = Q1 - 1.5 * IQR\n",
    "    upper_bound = Q3 + 1.5 * IQR\n",
    "\n",
    "    clipped_values = df[(df[col] < lower_bound) | (df[col] > upper_bound)]\n",
    "\n",
    "    values_clipped += clipped_values.shape[0]\n",
    "\n",
    "    df[col] = df[col].clip(lower=lower_bound, upper=upper_bound)\n",
    "\n",
    "values_after_clipping = df[numerical_features].count().sum()\n",
    "values_affected_by_clipping = values_before_clipping - values_after_clipping\n",
    "percentage_removed_by_clipping = (values_affected_by_clipping / values_before_clipping) * 100\n",
    "\n",
    "print(f\"Values affected by clipping: {values_affected_by_clipping} values\")\n",
    "print(f\"Percentage of values removed by clipping: {percentage_removed_by_clipping:.2f}%\")\n",
    "\n",
    "# 2. Model Based: Isolation Forest\n",
    "print_markdown(\"#### 2. Model Based: Isolation Forest\")\n",
    "\n",
    "rows_before_isoforest = df.shape[0]\n",
    "iso_forest = IsolationForest(contamination=0.05) \n",
    "outliers = iso_forest.fit_predict(df[numerical_features])\n",
    "\n",
    "outlier_mask = outliers == -1\n",
    "\n",
    "df = df[~outlier_mask]\n",
    "\n",
    "rows_after_isoforest = df.shape[0]\n",
    "\n",
    "rows_removed_isoforest = rows_before_isoforest - rows_after_isoforest\n",
    "print(f\"Data removed by Isolation Forest: {rows_removed_isoforest} rows\")\n",
    "\n",
    "print(f\"Data after applying both steps: {df.shape[0]} rows\")\n"
   ]
  },
  {
   "cell_type": "markdown",
   "metadata": {
    "id": "aO0ZEZ-s6Lu-"
   },
   "source": [
    "### III. Remove Duplicates\n",
    "Handling duplicate values is crucial because they can compromise data integrity, leading to inaccurate analysis and insights. Duplicate entries can bias machine learning models, causing overfitting and reducing their ability to generalize to new data. They also inflate the dataset size unnecessarily, increasing computational costs and processing times. Additionally, duplicates can distort statistical measures and lead to inconsistencies, ultimately affecting the reliability of data-driven decisions and reporting. Ensuring data quality by removing duplicates is essential for accurate, efficient, and consistent analysis."
   ]
  },
  {
   "cell_type": "code",
   "execution_count": 6,
   "metadata": {
    "ExecuteTime": {
     "end_time": "2024-12-01T11:13:17.868513Z",
     "start_time": "2024-12-01T11:13:16.530853Z"
    },
    "id": "BHCkkZ-v7iF8"
   },
   "outputs": [
    {
     "data": {
      "text/markdown": [
       "Before duplicates removal"
      ],
      "text/plain": [
       "<IPython.core.display.Markdown object>"
      ]
     },
     "metadata": {},
     "output_type": "display_data"
    },
    {
     "name": "stdout",
     "output_type": "stream",
     "text": [
      "Number of duplicate rows: 48104\n",
      "Percent of duplicate: 28.88%\n"
     ]
    },
    {
     "data": {
      "text/markdown": [
       "After duplicates removal"
      ],
      "text/plain": [
       "<IPython.core.display.Markdown object>"
      ]
     },
     "metadata": {},
     "output_type": "display_data"
    },
    {
     "name": "stdout",
     "output_type": "stream",
     "text": [
      "Number of duplicate rows: 0\n"
     ]
    }
   ],
   "source": [
    "num_duplicates = df.duplicated().sum()\n",
    "print_markdown(\"Before duplicates removal\")\n",
    "print(f\"Number of duplicate rows: {num_duplicates}\")\n",
    "print(f\"Percent of duplicate: {num_duplicates/len(df)*100:.2f}%\")\n",
    "\n",
    "# Remove duplicate rows\n",
    "df.drop_duplicates(inplace=True)\n",
    "\n",
    "num_duplicates = df.duplicated().sum()\n",
    "print_markdown(\"After duplicates removal\")\n",
    "print(f\"Number of duplicate rows: {num_duplicates}\")\n"
   ]
  },
  {
   "cell_type": "markdown",
   "metadata": {
    "id": "eycPASmMLfHa"
   },
   "source": [
    "   ### IV. Feature Engineering\n",
    "\n",
    "**Feature engineering** involves creating new features (input variables) or transforming existing ones to improve the performance of machine learning models. Feature engineering aims to enhance the model's ability to learn patterns and make accurate predictions from the data. It's often said that \"good features make good models.\"\n",
    "\n",
    "1. **Feature Selection:** Feature engineering can involve selecting the most relevant and informative features from the dataset. Removing irrelevant or redundant features not only simplifies the model but also reduces the risk of overfitting.\n",
    "\n",
    "2. **Creating New Features:** Sometimes, the existing features may not capture the underlying patterns effectively. In such cases, engineers create new features that provide additional information. For example:\n",
    "   \n",
    "   - **Polynomial Features:** Engineers may create new features by taking the square, cube, or other higher-order terms of existing numerical features. This can help capture nonlinear relationships.\n",
    "   \n",
    "   - **Interaction Features:** Interaction features are created by combining two or more existing features. For example, if you have features \"length\" and \"width,\" you can create an \"area\" feature by multiplying them.\n",
    "\n",
    "3. **Binning or Discretization:** Continuous numerical features can be divided into bins or categories. For instance, age values can be grouped into bins like \"child,\" \"adult,\" and \"senior.\"\n",
    "\n",
    "4. **Domain-Specific Feature Engineering:** Depending on the domain and problem, engineers may create domain-specific features. For example, in fraud detection, features related to transaction history and user behavior may be engineered to identify anomalies.\n",
    "\n",
    "Feature engineering is both a creative and iterative process. It requires a deep understanding of the data, domain knowledge, and experimentation to determine which features will enhance the model's predictive power."
   ]
  },
  {
   "cell_type": "code",
   "execution_count": 7,
   "metadata": {
    "ExecuteTime": {
     "end_time": "2024-12-01T11:13:17.874480Z",
     "start_time": "2024-12-01T11:13:17.870524Z"
    },
    "id": "UoXEV6wkLfHa"
   },
   "outputs": [],
   "source": [
    "# Write your code here"
   ]
  },
  {
   "cell_type": "code",
   "execution_count": 8,
   "metadata": {
    "ExecuteTime": {
     "end_time": "2024-12-01T11:13:17.908335Z",
     "start_time": "2024-12-01T11:13:17.875489Z"
    }
   },
   "outputs": [
    {
     "data": {
      "text/markdown": [
       "#### Result of Data Cleaning"
      ],
      "text/plain": [
       "<IPython.core.display.Markdown object>"
      ]
     },
     "metadata": {},
     "output_type": "display_data"
    },
    {
     "name": "stdout",
     "output_type": "stream",
     "text": [
      "Number of instances before cleaning: 175341\n",
      "Number of instance after cleaning: 118470\n",
      "Number of instances removed: 56871\n",
      "Percent removed: 32.43%\n"
     ]
    }
   ],
   "source": [
    "shape_after_cleaning = df.shape\n",
    "print_markdown(\"#### Result of Data Cleaning\")\n",
    "print(f\"Number of instances before cleaning: {shape_before_cleaning[0]}\")\n",
    "print(f\"Number of instance after cleaning: {shape_after_cleaning[0]}\")\n",
    "print(f\"Number of instances removed: {shape_before_cleaning[0] - shape_after_cleaning[0]}\")\n",
    "print(f\"Percent removed: {(shape_before_cleaning[0] - shape_after_cleaning[0])/shape_before_cleaning[0]*100:.2f}%\")"
   ]
  },
  {
   "cell_type": "markdown",
   "metadata": {
    "id": "xw11_49xLfHb"
   },
   "source": [
    "## B. Data Preprocessing\n",
    "\n",
    "**Data preprocessing** is a broader step that encompasses both data cleaning and additional transformations to make the data suitable for machine learning algorithms. Its primary goals are:\n",
    "\n",
    "1. **Feature Scaling:** Ensure that numerical features have similar scales. Common techniques include Min-Max scaling (scaling to a specific range) or standardization (mean-centered, unit variance).\n",
    "\n",
    "2. **Encoding Categorical Variables:** Machine learning models typically work with numerical data, so categorical variables need to be encoded. This can be done using one-hot encoding, label encoding, or more advanced methods like target encoding.\n",
    "\n",
    "3. **Handling Imbalanced Classes:** If dealing with imbalanced classes in a binary classification task, apply techniques such as oversampling, undersampling, or using different evaluation metrics to address class imbalance.\n",
    "\n",
    "4. **Dimensionality Reduction:** Reduce the number of features using techniques like Principal Component Analysis (PCA) or feature selection to simplify the model and potentially improve its performance.\n",
    "\n",
    "5. **Normalization:** Normalize data to achieve a standard distribution. This is particularly important for algorithms that assume normally distributed data."
   ]
  },
  {
   "cell_type": "markdown",
   "metadata": {
    "id": "rVyVnA1hLfHd"
   },
   "source": [
    "### Notes on Preprocessing processes\n",
    "\n",
    "It is advised to create functions or classes that have the same/similar type of inputs and outputs, so you can add, remove, or swap the order of the processes easily. You can implement the functions or classes by yourself\n",
    "\n",
    "or\n",
    "\n",
    "use `sklearn` library. To create a new preprocessing component in `sklearn`, implement a corresponding class that includes:\n",
    "1. Inheritance to `BaseEstimator` and `TransformerMixin`\n",
    "2. The method `fit`\n",
    "3. The method `transform`"
   ]
  },
  {
   "cell_type": "code",
   "execution_count": 9,
   "metadata": {
    "ExecuteTime": {
     "end_time": "2024-12-01T11:13:17.927394Z",
     "start_time": "2024-12-01T11:13:17.910345Z"
    },
    "id": "WbxHt-5eKz_I"
   },
   "outputs": [],
   "source": [
    "# Example\n",
    "\n",
    "# from sklearn.base import BaseEstimator, TransformerMixin\n",
    "\n",
    "# class FeatureEncoder(BaseEstimator, TransformerMixin):\n",
    "\n",
    "#     def fit(self, X, y=None):\n",
    "\n",
    "#         # Fit the encoder here\n",
    "\n",
    "#         return self\n",
    "\n",
    "#     def transform(self, X):\n",
    "#         X_encoded = X.copy()\n",
    "\n",
    "#         # Encode the categorical variables here\n",
    "\n",
    "#         return X_encoded"
   ]
  },
  {
   "cell_type": "markdown",
   "metadata": {
    "id": "WhCgOl4xLfHb"
   },
   "source": [
    "### I. Feature Scaling\n",
    "\n",
    "**Feature scaling** is a preprocessing technique used in machine learning to standardize the range of independent variables or features of data. The primary goal of feature scaling is to ensure that all features contribute equally to the training process and that machine learning algorithms can work effectively with the data.\n",
    "\n",
    "Here are the main reasons why feature scaling is important:\n",
    "\n",
    "1. **Algorithm Sensitivity:** Many machine learning algorithms are sensitive to the scale of input features. If the scales of features are significantly different, some algorithms may perform poorly or take much longer to converge.\n",
    "\n",
    "2. **Distance-Based Algorithms:** Algorithms that rely on distances or similarities between data points, such as k-nearest neighbors (KNN) and support vector machines (SVM), can be influenced by feature scales. Features with larger scales may dominate the distance calculations.\n",
    "\n",
    "3. **Regularization:** Regularization techniques, like L1 (Lasso) and L2 (Ridge) regularization, add penalty terms based on feature coefficients. Scaling ensures that all features are treated equally in the regularization process.\n",
    "\n",
    "Common methods for feature scaling include:\n",
    "\n",
    "1. **Min-Max Scaling (Normalization):** This method scales features to a specific range, typically [0, 1]. It's done using the following formula:\n",
    "\n",
    "   $$X' = \\frac{X - X_{min}}{X_{max} - X_{min}}$$\n",
    "\n",
    "   - Here, $X$ is the original feature value, $X_{min}$ is the minimum value of the feature, and $X_{max}$ is the maximum value of the feature.  \n",
    "<br />\n",
    "<br />\n",
    "2. **Standardization (Z-score Scaling):** This method scales features to have a mean (average) of 0 and a standard deviation of 1. It's done using the following formula:\n",
    "\n",
    "   $$X' = \\frac{X - \\mu}{\\sigma}$$\n",
    "\n",
    "   - $X$ is the original feature value, $\\mu$ is the mean of the feature, and $\\sigma$ is the standard deviation of the feature.  \n",
    "<br />\n",
    "<br />\n",
    "3. **Robust Scaling:** Robust scaling is a method that scales features to the interquartile range (IQR) and is less affected by outliers. It's calculated as:\n",
    "\n",
    "   $$X' = \\frac{X - Q1}{Q3 - Q1}$$\n",
    "\n",
    "   - $X$ is the original feature value, $Q1$ is the first quartile (25th percentile), and $Q3$ is the third quartile (75th percentile) of the feature.  \n",
    "<br />\n",
    "<br />\n",
    "4. **Log Transformation:** In cases where data is highly skewed or has a heavy-tailed distribution, taking the logarithm of the feature values can help stabilize the variance and improve scaling.\n",
    "\n",
    "The choice of scaling method depends on the characteristics of your data and the requirements of your machine learning algorithm. **Min-max scaling and standardization are the most commonly used techniques and work well for many datasets.**\n",
    "\n",
    "Scaling should be applied separately to each training and test set to prevent data leakage from the test set into the training set. Additionally, **some algorithms may not require feature scaling, particularly tree-based models.**"
   ]
  },
  {
   "cell_type": "code",
   "execution_count": null,
   "metadata": {
    "ExecuteTime": {
     "end_time": "2024-12-01T11:13:17.949595Z",
     "start_time": "2024-12-01T11:13:17.930418Z"
    },
    "id": "COef9EbCLfHb"
   },
   "outputs": [],
   "source": [
    "print_markdown(\"#### Feature Scaling\")\n",
    "print_markdown(\"Since the features have different scales, we will be using MinMaxScaler to scale the features to a range of 0 to 1.\")\n",
    "class FeatureScaler(BaseEstimator, TransformerMixin):\n",
    "\n",
    "    def __init__(self, feature_range=(0,1)):\n",
    "        self.feature_range = feature_range\n",
    "\n",
    "    def fit(self, X, y=None):\n",
    "        X = pd.DataFrame(X)\n",
    "        self.min = X.min(axis=0).values\n",
    "        self.max = X.max(axis=0).values\n",
    "        range_min, range_max = self.feature_range\n",
    "        self.scale = (range_max - range_min) / (self.max - self.min)\n",
    "        return self\n",
    "\n",
    "    def transform(self, X):\n",
    "        X_scaled = X.copy()\n",
    "        X_scaled = pd.DataFrame(X_scaled)\n",
    "        range_min, range_max = self.feature_range\n",
    "        X_scaled = (X_scaled - self.min) * self.scale + range_min\n",
    "        return X_scaled"
   ]
  },
  {
   "cell_type": "markdown",
   "metadata": {
    "id": "f_Lh-4JwLfHc"
   },
   "source": [
    "### II. Feature Encoding\n",
    "\n",
    "**Feature encoding**, also known as **categorical encoding**, is the process of converting categorical data (non-numeric data) into a numerical format so that it can be used as input for machine learning algorithms. Most machine learning models require numerical data for training and prediction, so feature encoding is a critical step in data preprocessing.\n",
    "\n",
    "Categorical data can take various forms, including:\n",
    "\n",
    "1. **Nominal Data:** Categories with no intrinsic order, like colors or country names.  \n",
    "\n",
    "2. **Ordinal Data:** Categories with a meaningful order but not necessarily equidistant, like education levels (e.g., \"high school,\" \"bachelor's,\" \"master's\").\n",
    "\n",
    "There are several common methods for encoding categorical data:\n",
    "\n",
    "1. **Label Encoding:**\n",
    "\n",
    "   - Label encoding assigns a unique integer to each category in a feature.\n",
    "   - It's suitable for ordinal data where there's a clear order among categories.\n",
    "   - For example, if you have an \"education\" feature with values \"high school,\" \"bachelor's,\" and \"master's,\" you can encode them as 0, 1, and 2, respectively.\n",
    "<br />\n",
    "<br />\n",
    "2. **One-Hot Encoding:**\n",
    "\n",
    "   - One-hot encoding creates a binary (0 or 1) column for each category in a nominal feature.\n",
    "   - It's suitable for nominal data where there's no inherent order among categories.\n",
    "   - Each category becomes a new feature, and the presence (1) or absence (0) of a category is indicated for each row.\n",
    "<br />\n",
    "<br />\n",
    "3. **Target Encoding (Mean Encoding):**\n",
    "\n",
    "   - Target encoding replaces each category with the mean of the target variable for that category.\n",
    "   - It's often used for classification problems."
   ]
  },
  {
   "cell_type": "code",
   "execution_count": 11,
   "metadata": {
    "ExecuteTime": {
     "end_time": "2024-12-01T11:13:17.970606Z",
     "start_time": "2024-12-01T11:13:17.951604Z"
    },
    "id": "psElSUugLfHc"
   },
   "outputs": [],
   "source": [
    "# Write your code here"
   ]
  },
  {
   "cell_type": "markdown",
   "metadata": {
    "id": "jKQO9wtB8Pc0"
   },
   "source": [
    "### III. Handling Imbalanced Dataset\n",
    "\n",
    "**Handling imbalanced datasets** is important because imbalanced data can lead to several issues that negatively impact the performance and reliability of machine learning models. Here are some key reasons:\n",
    "\n",
    "1. **Biased Model Performance**:\n",
    "\n",
    " - Models trained on imbalanced data tend to be biased towards the majority class, leading to poor performance on the minority class. This can result in misleading accuracy metrics.\n",
    "\n",
    "2. **Misleading Accuracy**:\n",
    "\n",
    " - High overall accuracy can be misleading in imbalanced datasets. For example, if 95% of the data belongs to one class, a model that always predicts the majority class will have 95% accuracy but will fail to identify the minority class.\n",
    "\n",
    "3. **Poor Generalization**:\n",
    "\n",
    " - Models trained on imbalanced data may not generalize well to new, unseen data, especially if the minority class is underrepresented.\n",
    "\n",
    "\n",
    "Some methods to handle imbalanced datasets:\n",
    "1. **Resampling Methods**:\n",
    "\n",
    " - Oversampling: Increase the number of instances in the minority class by duplicating or generating synthetic samples (e.g., SMOTE).\n",
    " - Undersampling: Reduce the number of instances in the majority class to balance the dataset.\n",
    "\n",
    "2. **Evaluation Metrics**:\n",
    "\n",
    " - Use appropriate evaluation metrics such as precision, recall, F1-score, ROC-AUC, and confusion matrix instead of accuracy to better assess model performance on imbalanced data.\n",
    "\n",
    "3. **Algorithmic Approaches**:\n",
    "\n",
    " - Use algorithms that are designed to handle imbalanced data, such as decision trees, random forests, or ensemble methods.\n",
    " - Adjust class weights in algorithms to give more importance to the minority class."
   ]
  },
  {
   "cell_type": "code",
   "execution_count": 12,
   "metadata": {
    "ExecuteTime": {
     "end_time": "2024-12-01T11:13:17.989604Z",
     "start_time": "2024-12-01T11:13:17.971630Z"
    },
    "id": "u2BQd2XJ9W1i"
   },
   "outputs": [],
   "source": [
    "# Write your code here"
   ]
  },
  {
   "cell_type": "markdown",
   "metadata": {
    "id": "fTMSyUzf_-HQ"
   },
   "source": [
    "### IV. Data Normalization\n",
    "\n",
    "Data normalization is used to achieve a standard distribution. Without normalization, models or processes that rely on the assumption of normality may not work correctly. Normalization helps reduce the magnitude effect and ensures numerical stability during optimization."
   ]
  },
  {
   "cell_type": "code",
   "execution_count": 13,
   "metadata": {
    "ExecuteTime": {
     "end_time": "2024-12-01T11:13:18.010001Z",
     "start_time": "2024-12-01T11:13:17.990627Z"
    },
    "id": "HLOWHftjF1JU"
   },
   "outputs": [],
   "source": [
    "# Write your code here"
   ]
  },
  {
   "cell_type": "markdown",
   "metadata": {
    "id": "MSZPZSntF3Kb"
   },
   "source": [
    "### V. Dimensionality Reduction\n",
    "\n",
    "Dimensionality reduction is a technique used in data preprocessing to reduce the number of input features (dimensions) in a dataset while retaining as much important information as possible. It is essential when dealing with high-dimensional data, where too many features can cause problems like increased computational costs, overfitting, and difficulty in visualization. Reducing dimensions simplifies the data, making it easier to analyze and improving the performance of machine learning models.\n",
    "\n",
    "One of the main approaches to dimensionality reduction is feature extraction. Feature extraction creates new, smaller sets of features that capture the essence of the original data. Common techniques include:\n",
    "\n",
    "1. **Principal Component Analysis (PCA)**: Converts correlated features into a smaller number of uncorrelated \"principal components.\"\n",
    "2. **t-SNE (t-Distributed Stochastic Neighbor Embedding)**: A visualization-focused method to project high-dimensional data into 2D or 3D spaces.\n",
    "3. **Autoencoders**: Neural networks that learn compressed representations of the data."
   ]
  },
  {
   "cell_type": "code",
   "execution_count": 14,
   "metadata": {
    "ExecuteTime": {
     "end_time": "2024-12-01T11:13:18.060922Z",
     "start_time": "2024-12-01T11:13:18.011011Z"
    },
    "id": "5rksSMAWICY_"
   },
   "outputs": [],
   "source": [
    "# Write your code here"
   ]
  },
  {
   "cell_type": "markdown",
   "metadata": {
    "id": "-ctVzt5DLfHd"
   },
   "source": [
    "# 3. Compile Preprocessing Pipeline\n",
    "\n",
    "All of the preprocessing classes or functions defined earlier will be compiled in this step."
   ]
  },
  {
   "cell_type": "markdown",
   "metadata": {
    "id": "S_ZlncSVjJG6"
   },
   "source": [
    "If you use sklearn to create preprocessing classes, you can list your preprocessing classes in the Pipeline object sequentially, and then fit and transform your data."
   ]
  },
  {
   "cell_type": "code",
   "execution_count": 15,
   "metadata": {
    "ExecuteTime": {
     "end_time": "2024-12-01T11:13:18.081945Z",
     "start_time": "2024-12-01T11:13:18.061941Z"
    },
    "id": "jHraoW_7LfHd"
   },
   "outputs": [],
   "source": [
    "# from sklearn.pipeline import Pipeline\n",
    "\n",
    "# # Note: You can add or delete preprocessing components from this pipeline\n",
    "\n",
    "# pipe = Pipeline([(\"imputer\", FeatureImputer()),\n",
    "#                  (\"featurecreator\", FeatureCreator()),\n",
    "#                  (\"scaler\", FeatureScaler()),\n",
    "#                  (\"encoder\", FeatureEncoder())])\n",
    "\n",
    "# train_set = pipe.fit_transform(train_set)\n",
    "# val_set = pipe.transform(val_set)"
   ]
  },
  {
   "cell_type": "code",
   "execution_count": 16,
   "metadata": {
    "ExecuteTime": {
     "end_time": "2024-12-01T11:13:18.103294Z",
     "start_time": "2024-12-01T11:13:18.083308Z"
    },
    "id": "9s56aFFxLfHd"
   },
   "outputs": [],
   "source": [
    "# # Your code should work up until this point\n",
    "# train_set = pipe.fit_transform(train_set)\n",
    "# val_set = pipe.transform(val_set)"
   ]
  },
  {
   "cell_type": "markdown",
   "metadata": {
    "id": "SXoCqMztjhr-"
   },
   "source": [
    "or create your own here"
   ]
  },
  {
   "cell_type": "code",
   "execution_count": 17,
   "metadata": {
    "ExecuteTime": {
     "end_time": "2024-12-01T11:13:18.122932Z",
     "start_time": "2024-12-01T11:13:18.105533Z"
    },
    "id": "7OoZ3oXEj2CW"
   },
   "outputs": [],
   "source": [
    "# Write your code here"
   ]
  },
  {
   "cell_type": "markdown",
   "metadata": {
    "id": "9A3adbZXLfHe"
   },
   "source": [
    "# 4. Modeling and Validation\n",
    "\n",
    "Modelling is the process of building your own machine learning models to solve specific problems, or in this assignment context, predicting the target feature `attack_cat`. Validation is the process of evaluating your trained model using the validation set or cross-validation method and providing some metrics that can help you decide what to do in the next iteration of development."
   ]
  },
  {
   "cell_type": "markdown",
   "metadata": {
    "id": "ZnhMNbBILfHf"
   },
   "source": [
    "## A. KNN"
   ]
  },
  {
   "cell_type": "code",
   "execution_count": 18,
   "metadata": {
    "ExecuteTime": {
     "end_time": "2024-12-01T11:13:18.152492Z",
     "start_time": "2024-12-01T11:13:18.124955Z"
    },
    "id": "KV6ICmFmlqjk"
   },
   "outputs": [],
   "source": [
    "# Type your code here"
   ]
  },
  {
   "cell_type": "markdown",
   "metadata": {
    "id": "nW0bMzkDLfHf"
   },
   "source": [
    "## B. Naive Bayes"
   ]
  },
  {
   "cell_type": "code",
   "execution_count": 19,
   "metadata": {
    "ExecuteTime": {
     "end_time": "2024-12-01T11:13:18.172912Z",
     "start_time": "2024-12-01T11:13:18.154503Z"
    },
    "id": "C_XwsN_-LfHg"
   },
   "outputs": [],
   "source": [
    "# Type your code here"
   ]
  },
  {
   "cell_type": "markdown",
   "metadata": {
    "id": "TLDtIkPdLfHg"
   },
   "source": [
    "## C. ID3"
   ]
  },
  {
   "cell_type": "code",
   "execution_count": 20,
   "metadata": {
    "ExecuteTime": {
     "end_time": "2024-12-01T11:13:18.197298Z",
     "start_time": "2024-12-01T11:13:18.173923Z"
    },
    "id": "gZ6_x1LKLfHh"
   },
   "outputs": [],
   "source": [
    "# Type your code here"
   ]
  },
  {
   "cell_type": "markdown",
   "metadata": {
    "id": "LoH2u6fOLfHh"
   },
   "source": [
    "## D. Improvements (Optional)\n",
    "\n",
    "- **Visualize the model evaluation result**\n",
    "\n",
    "This will help you to understand the details more clearly about your model's performance. From the visualization, you can see clearly if your model is leaning towards a class than the others. (Hint: confusion matrix, ROC-AUC curve, etc.)\n",
    "\n",
    "- **Explore the hyperparameters of your models**\n",
    "\n",
    "Each models have their own hyperparameters. And each of the hyperparameter have different effects on the model behaviour. You can optimize the model performance by finding the good set of hyperparameters through a process called **hyperparameter tuning**. (Hint: Grid search, random search, bayesian optimization)\n",
    "\n",
    "- **Cross-validation**\n",
    "\n",
    "Cross-validation is a critical technique in machine learning and data science for evaluating and validating the performance of predictive models. It provides a more **robust** and **reliable** evaluation method compared to a hold-out (single train-test set) validation. Though, it requires more time and computing power because of how cross-validation works. (Hint: k-fold cross-validation, stratified k-fold cross-validation, etc.)"
   ]
  },
  {
   "cell_type": "code",
   "execution_count": 21,
   "metadata": {
    "ExecuteTime": {
     "end_time": "2024-12-01T11:13:18.228241Z",
     "start_time": "2024-12-01T11:13:18.198307Z"
    },
    "id": "pg-A54yELfHh"
   },
   "outputs": [],
   "source": [
    "# Type your code here"
   ]
  },
  {
   "cell_type": "markdown",
   "metadata": {
    "id": "Li4l53DjLfHh"
   },
   "source": [
    "## E. Submission\n",
    "To predict the test set target feature and submit the results to the kaggle competition platform, do the following:\n",
    "1. Create a new pipeline instance identical to the first in Data Preprocessing\n",
    "2. With the pipeline, apply `fit_transform` to the original training set before splitting, then only apply `transform` to the test set.\n",
    "3. Retrain the model on the preprocessed training set\n",
    "4. Predict the test set\n",
    "5. Make sure the submission contains the `id` and `attack_cat` column."
   ]
  },
  {
   "cell_type": "code",
   "execution_count": 22,
   "metadata": {
    "ExecuteTime": {
     "end_time": "2024-12-01T11:13:18.259916Z",
     "start_time": "2024-12-01T11:13:18.230253Z"
    },
    "id": "LeqnfWc-LfHi"
   },
   "outputs": [],
   "source": [
    "# Type your code here"
   ]
  },
  {
   "cell_type": "markdown",
   "metadata": {
    "id": "R-jXvKOpLfHi"
   },
   "source": [
    "# 6. Error Analysis\n",
    "\n",
    "Based on all the process you have done until the modeling and evaluation step, write an analysis to support each steps you have taken to solve this problem. Write the analysis using the markdown block. Some questions that may help you in writing the analysis:\n",
    "\n",
    "- Does my model perform better in predicting one class than the other? If so, why is that?\n",
    "- To each models I have tried, which performs the best and what could be the reason?\n",
    "- Is it better for me to impute or drop the missing data? Why?\n",
    "- Does feature scaling help improve my model performance?\n",
    "- etc..."
   ]
  },
  {
   "cell_type": "markdown",
   "metadata": {
    "id": "tWL3nEAELfHj"
   },
   "source": [
    "`Provide your analysis here`"
   ]
  }
 ],
 "metadata": {
  "colab": {
   "provenance": [],
   "toc_visible": true
  },
  "kernelspec": {
   "display_name": "Python 3",
   "language": "python",
   "name": "python3"
  },
  "language_info": {
   "codemirror_mode": {
    "name": "ipython",
    "version": 3
   },
   "file_extension": ".py",
   "mimetype": "text/x-python",
   "name": "python",
   "nbconvert_exporter": "python",
   "pygments_lexer": "ipython3",
   "version": "3.10.12"
  }
 },
 "nbformat": 4,
 "nbformat_minor": 0
}

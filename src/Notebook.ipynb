{
 "metadata": {
  "kernelspec": {
   "display_name": "Python 3",
   "language": "python",
   "name": "python3"
  },
  "language_info": {
   "name": "python",
   "version": "3.10.12",
   "mimetype": "text/x-python",
   "codemirror_mode": {
    "name": "ipython",
    "version": 3
   },
   "pygments_lexer": "ipython3",
   "nbconvert_exporter": "python",
   "file_extension": ".py"
  },
  "colab": {
   "provenance": [],
   "toc_visible": true
  }
 },
 "nbformat_minor": 0,
 "nbformat": 4,
 "cells": [
  {
   "cell_type": "markdown",
   "source": [
    "# IF3170 Artificial Intelligence | Tugas Besar 2\n",
    "\n",
    "This notebook serves as a template for the assignment. Please create a copy of this notebook to complete your work. You can add more code blocks, markdown blocks, or new sections if needed.\n"
   ],
   "metadata": {
    "id": "uR1JW69eLfG_"
   }
  },
  {
   "cell_type": "markdown",
   "source": [
    "Group AK48  \n",
    "Group Number: 25\n",
    "\n",
    "Group Members:\n",
    "- Aurelius Justin Philo Fanjaya (13522020)\n",
    "- Bagas Sambega Rosyada (13522071)\n",
    "- Fedrianz Dharma (13522090)\n",
    "- Raden Francisco Trianto B. (13522091)"
   ],
   "metadata": {
    "id": "ucbaI5rBLtjJ"
   }
  },
  {
   "cell_type": "markdown",
   "source": [
    "## Import Libraries"
   ],
   "metadata": {
    "id": "GwzsfETHLfHA"
   }
  },
  {
   "cell_type": "code",
   "source": [
    "import pandas as pd\n",
    "import numpy as np\n",
    "from IPython.display import Markdown, display\n",
    "from sklearn.impute import SimpleImputer\n",
    "\n",
    "# Function to display markdown\n",
    "def print_markdown(md_text):\n",
    "    display(Markdown(md_text))"
   ],
   "metadata": {
    "id": "jZJU5W_4LfHB",
    "ExecuteTime": {
     "end_time": "2024-12-01T09:24:49.598620Z",
     "start_time": "2024-12-01T09:24:45.476776Z"
    }
   },
   "outputs": [],
   "execution_count": 1
  },
  {
   "cell_type": "markdown",
   "source": [
    "## Import Dataset"
   ],
   "metadata": {
    "id": "OKbjLIdYLfHC"
   }
  },
  {
   "cell_type": "code",
   "source": [
    "# Example of reading a csv file from a gdrive link\n",
    "\n",
    "# Take the file id from the gdrive file url\n",
    "# https://drive.google.com/file/d/1ZUtiaty9RPXhpz5F2Sy3dFPHF4YIt5iU/view?usp=sharing => The file id is 1ZUtiaty9RPXhpz5F2Sy3dFPHF4YIt5iU\n",
    "# and then put it in this format:\n",
    "# https://drive.google.com/uc?id={file_id}\n",
    "# Don't forget to change the access to public\n",
    "\n",
    "# Local path\n",
    "train_path = \"../dataset/train/\"\n",
    "\n",
    "basic_features_df = pd.read_csv(train_path + \"basic_features_train.csv\")\n",
    "content_features_df = pd.read_csv(train_path + \"content_features_train.csv\")\n",
    "flow_features_df = pd.read_csv(train_path + \"flow_features_train.csv\")\n",
    "time_features_df = pd.read_csv(train_path + \"time_features_train.csv\")\n",
    "labels_df = pd.read_csv(train_path + \"labels_train.csv\").drop(columns=['label'])\n",
    "\n",
    "df = basic_features_df.merge(content_features_df, on=\"id\") \\\n",
    "    .merge(flow_features_df, on=\"id\") \\\n",
    "    .merge(time_features_df, on=\"id\") \\\n",
    "    .merge(labels_df, on=\"id\").drop(columns=['id'])\n",
    "\n",
    "print(df.head())"
   ],
   "metadata": {
    "id": "-IWFJ-gdLfHD",
    "ExecuteTime": {
     "end_time": "2024-12-01T09:24:51.029925Z",
     "start_time": "2024-12-01T09:24:49.601155Z"
    }
   },
   "outputs": [
    {
     "name": "stdout",
     "output_type": "stream",
     "text": [
      "  state       dur   sbytes    dbytes   sttl   dttl  sloss  dloss service  \\\n",
      "0   FIN  2.736664  13350.0  548216.0   31.0   29.0   21.0  197.0       -   \n",
      "1   INT  0.000009    114.0       0.0  254.0    0.0    0.0    0.0     dns   \n",
      "2   FIN  5.788526   6102.0    3892.0  254.0  252.0   13.0   13.0       -   \n",
      "3   FIN  3.849634  25160.0       NaN   31.0   29.0   38.0  390.0       -   \n",
      "4   CON  0.001052    130.0     162.0    NaN   29.0    0.0    0.0     dns   \n",
      "\n",
      "          sload  ...  response_body_len  proto         sjit         djit  \\\n",
      "0  3.885899e+04  ...                0.0    tcp  4449.110313  3234.831566   \n",
      "1  5.066666e+07  ...                0.0    udp     0.000000     0.000000   \n",
      "2  8.199669e+03  ...                0.0    tcp  8561.040438   249.950547   \n",
      "3  5.216912e+04  ...                0.0    tcp  4053.086020  2918.730804   \n",
      "4  4.942966e+05  ...                0.0    udp     0.000000     0.000000   \n",
      "\n",
      "       sinpkt      dinpkt    tcprtt    synack    ackdat  attack_cat  \n",
      "0   11.845558    6.261361       NaN  0.000444  0.000114      Normal  \n",
      "1    0.009000    0.000000  0.000000  0.000000       NaN     Generic  \n",
      "2  165.386453  172.345750  0.158826  0.057902  0.100924    Exploits  \n",
      "3    8.669644    4.496707  0.000558  0.000448       NaN      Normal  \n",
      "4    0.008000    0.007000  0.000000  0.000000  0.000000      Normal  \n",
      "\n",
      "[5 rows x 30 columns]\n"
     ]
    }
   ],
   "execution_count": 2
  },
  {
   "cell_type": "markdown",
   "source": [
    "# Exploratory Data Analysis (Optional)\n",
    "\n",
    "Exploratory Data Analysis (EDA) is a crucial step in the data analysis process that involves examining and visualizing data sets to uncover patterns, trends, anomalies, and insights. It is the first step before applying more advanced statistical and machine learning techniques. EDA helps you to gain a deep understanding of the data you are working with, allowing you to make informed decisions and formulate hypotheses for further analysis."
   ],
   "metadata": {
    "id": "YdSor5sdIYGs"
   }
  },
  {
   "metadata": {},
   "cell_type": "markdown",
   "source": "## Data Understanding   "
  },
  {
   "cell_type": "code",
   "source": [
    "### 1. Data Size\n",
    "print_markdown(\"### 1. Data Size\")\n",
    "print(f\"Number of instances: {df.shape[0]} | Number of features: {df.shape[1] - 3}\")\n",
    "print(f\"Target class: attack_cat\")\n",
    "\n",
    "### 2. Data Types\n",
    "print_markdown(\"### 2. Data Types\")\n",
    "print(df.dtypes.to_string())\n",
    "\n",
    "### 3. Feature Type\n",
    "print_markdown(\"### 3. Feature Type\")\n",
    "# Setup categorical column for each dataframes\n",
    "categorical_features: list[str] = ['state', 'service', 'proto']\n",
    "\n",
    "target_col: list[str] = ['attack_cat']\n",
    "\n",
    "numerical_features: list[str] = [col for col in df.columns if col not in categorical_features and col not in target_col and col != 'id']\n",
    "\n",
    "print(\"Categorical Columns:\", categorical_features)\n",
    "print(\"Non-Categorical Columns:\", numerical_features)\n",
    "\n",
    "### 4. Missing Values\n",
    "print_markdown(\"### 4. Missing Values\")\n",
    "missing_counts = df.isnull().sum()\n",
    "total_rows = len(df)\n",
    "\n",
    "# Calculate the percentage of missing data for each column\n",
    "missing_percentage = (missing_counts / total_rows) * 100\n",
    "\n",
    "missing_data_summary = pd.DataFrame({'Missing Values': missing_counts, 'Percentage': missing_percentage})\n",
    "\n",
    "# Sort by the percentage of missing data (optional)\n",
    "missing_data_summary = missing_data_summary.sort_values(by='Percentage', ascending=False)\n",
    "\n",
    "print(missing_data_summary)\n",
    "\n"
   ],
   "metadata": {
    "id": "bGiGPVYNIoWk",
    "ExecuteTime": {
     "end_time": "2024-12-01T09:24:51.128344Z",
     "start_time": "2024-12-01T09:24:51.031933Z"
    }
   },
   "outputs": [
    {
     "data": {
      "text/plain": [
       "<IPython.core.display.Markdown object>"
      ],
      "text/markdown": "### 1. Data Size"
     },
     "metadata": {},
     "output_type": "display_data"
    },
    {
     "name": "stdout",
     "output_type": "stream",
     "text": [
      "Number of instances: 175341 | Number of features: 27\n",
      "Target class: attack_cat\n"
     ]
    },
    {
     "data": {
      "text/plain": [
       "<IPython.core.display.Markdown object>"
      ],
      "text/markdown": "### 2. Data Types"
     },
     "metadata": {},
     "output_type": "display_data"
    },
    {
     "name": "stdout",
     "output_type": "stream",
     "text": [
      "state                 object\n",
      "dur                  float64\n",
      "sbytes               float64\n",
      "dbytes               float64\n",
      "sttl                 float64\n",
      "dttl                 float64\n",
      "sloss                float64\n",
      "dloss                float64\n",
      "service               object\n",
      "sload                float64\n",
      "dload                float64\n",
      "spkts                float64\n",
      "dpkts                float64\n",
      "swin                 float64\n",
      "dwin                 float64\n",
      "stcpb                float64\n",
      "dtcpb                float64\n",
      "smean                float64\n",
      "dmean                float64\n",
      "trans_depth          float64\n",
      "response_body_len    float64\n",
      "proto                 object\n",
      "sjit                 float64\n",
      "djit                 float64\n",
      "sinpkt               float64\n",
      "dinpkt               float64\n",
      "tcprtt               float64\n",
      "synack               float64\n",
      "ackdat               float64\n",
      "attack_cat            object\n"
     ]
    },
    {
     "data": {
      "text/plain": [
       "<IPython.core.display.Markdown object>"
      ],
      "text/markdown": "### 3. Feature Type"
     },
     "metadata": {},
     "output_type": "display_data"
    },
    {
     "name": "stdout",
     "output_type": "stream",
     "text": [
      "Categorical Columns: ['state', 'service', 'proto']\n",
      "Non-Categorical Columns: ['dur', 'sbytes', 'dbytes', 'sttl', 'dttl', 'sloss', 'dloss', 'sload', 'dload', 'spkts', 'dpkts', 'swin', 'dwin', 'stcpb', 'dtcpb', 'smean', 'dmean', 'trans_depth', 'response_body_len', 'sjit', 'djit', 'sinpkt', 'dinpkt', 'tcprtt', 'synack', 'ackdat']\n"
     ]
    },
    {
     "data": {
      "text/plain": [
       "<IPython.core.display.Markdown object>"
      ],
      "text/markdown": "### 4. Missing Values"
     },
     "metadata": {},
     "output_type": "display_data"
    },
    {
     "name": "stdout",
     "output_type": "stream",
     "text": [
      "                   Missing Values  Percentage\n",
      "dloss                        8978    5.120308\n",
      "dbytes                       8869    5.058144\n",
      "dmean                        8855    5.050159\n",
      "djit                         8846    5.045027\n",
      "dload                        8837    5.039894\n",
      "tcprtt                       8836    5.039323\n",
      "proto                        8826    5.033620\n",
      "sttl                         8825    5.033050\n",
      "state                        8805    5.021644\n",
      "dtcpb                        8803    5.020503\n",
      "sloss                        8794    5.015370\n",
      "service                      8791    5.013659\n",
      "response_body_len            8791    5.013659\n",
      "smean                        8788    5.011948\n",
      "sload                        8786    5.010808\n",
      "trans_depth                  8785    5.010237\n",
      "dwin                         8779    5.006815\n",
      "swin                         8740    4.984573\n",
      "sjit                         8738    4.983432\n",
      "synack                       8736    4.982292\n",
      "dinpkt                       8734    4.981151\n",
      "dur                          8722    4.974307\n",
      "sinpkt                       8707    4.965752\n",
      "dpkts                        8686    4.953776\n",
      "stcpb                        8672    4.945791\n",
      "spkts                        8654    4.935526\n",
      "dttl                         8654    4.935526\n",
      "ackdat                       8595    4.901877\n",
      "sbytes                       8561    4.882486\n",
      "attack_cat                      0    0.000000\n"
     ]
    }
   ],
   "execution_count": 3
  },
  {
   "cell_type": "markdown",
   "source": [
    "# 1. Split Training Set and Validation Set\n",
    "\n",
    "Splitting the training and validation set works as an early diagnostic towards the performance of the model we train. This is done before the preprocessing steps to **avoid data leakage inbetween the sets**. If you want to use k-fold cross-validation, split the data later and do the cleaning and preprocessing separately for each split.\n",
    "\n",
    "Note: For training, you should use the data contained in the `train` folder given by the TA. The `test` data is only used for kaggle submission."
   ],
   "metadata": {
    "id": "gvx-gT3bLfHM"
   }
  },
  {
   "metadata": {},
   "cell_type": "markdown",
   "source": "#### This will be done later since we are using k-fold cross validation"
  },
  {
   "cell_type": "markdown",
   "source": [
    "# 2. Data Cleaning and Preprocessing\n",
    "\n",
    "This step is the first thing to be done once a Data Scientist have grasped a general knowledge of the data. Raw data is **seldom ready for training**, therefore steps need to be taken to clean and format the data for the Machine Learning model to interpret.\n",
    "\n",
    "By performing data cleaning and preprocessing, you ensure that your dataset is ready for model training, leading to more accurate and reliable machine learning results. These steps are essential for transforming raw data into a format that machine learning algorithms can effectively learn from and make predictions.\n",
    "\n",
    "We will give some common methods for you to try, but you only have to **at least implement one method for each process**. For each step that you will do, **please explain the reason why did you do that process. Write it in a markdown cell under the code cell you wrote.**"
   ],
   "metadata": {
    "id": "IC14lmo_LfHN"
   }
  },
  {
   "cell_type": "markdown",
   "source": [
    "## A. Data Cleaning\n",
    "\n",
    "**Data cleaning** is the crucial first step in preparing your dataset for machine learning. Raw data collected from various sources is often messy and may contain errors, missing values, and inconsistencies. Data cleaning involves the following steps:\n",
    "\n",
    "1. **Handling Missing Data:** Identify and address missing values in the dataset. This can include imputing missing values, removing rows or columns with excessive missing data, or using more advanced techniques like interpolation.\n",
    "\n",
    "2. **Dealing with Outliers:** Identify and handle outliers, which are data points significantly different from the rest of the dataset. Outliers can be removed or transformed to improve model performance.\n",
    "\n",
    "3. **Data Validation:** Check for data integrity and consistency. Ensure that data types are correct, categorical variables have consistent labels, and numerical values fall within expected ranges.\n",
    "\n",
    "4. **Removing Duplicates:** Identify and remove duplicate rows, as they can skew the model's training process and evaluation metrics.\n",
    "\n",
    "5. **Feature Engineering**: Create new features or modify existing ones to extract relevant information. This step can involve scaling, normalizing, or encoding features for better model interpretability."
   ],
   "metadata": {
    "id": "p95_A8hSLfHY"
   }
  },
  {
   "cell_type": "markdown",
   "source": [
    "### I. Handling Missing Data\n",
    "\n",
    "Missing data can adversely affect the performance and accuracy of machine learning models. There are several strategies to handle missing data in machine learning:\n",
    "\n",
    "1. **Data Imputation:**\n",
    "\n",
    "    a. **Mean, Median, or Mode Imputation:** For numerical features, you can replace missing values with the mean, median, or mode of the non-missing values in the same feature. This method is simple and often effective when data is missing at random.\n",
    "\n",
    "    b. **Constant Value Imputation:** You can replace missing values with a predefined constant value (e.g., 0) if it makes sense for your dataset and problem.\n",
    "\n",
    "    c. **Imputation Using Predictive Models:** More advanced techniques involve using predictive models to estimate missing values. For example, you can train a regression model to predict missing numerical values or a classification model to predict missing categorical values.\n",
    "\n",
    "2. **Deletion of Missing Data:**\n",
    "\n",
    "    a. **Listwise Deletion:** In cases where the amount of missing data is relatively small, you can simply remove rows with missing values from your dataset. However, this approach can lead to a loss of valuable information.\n",
    "\n",
    "    b. **Column (Feature) Deletion:** If a feature has a large number of missing values and is not critical for your analysis, you can consider removing that feature altogether.\n",
    "\n",
    "3. **Domain-Specific Strategies:**\n",
    "\n",
    "    a. **Domain Knowledge:** In some cases, domain knowledge can guide the imputation process. For example, if you know that missing values are related to a specific condition, you can impute them accordingly.\n",
    "\n",
    "4. **Imputation Libraries:**\n",
    "\n",
    "    a. **Scikit-Learn:** Scikit-Learn provides a `SimpleImputer` class that can handle basic imputation strategies like mean, median, and mode imputation.\n",
    "\n",
    "    b. **Fancyimpute:** Fancyimpute is a Python library that offers more advanced imputation techniques, including matrix factorization, k-nearest neighbors, and deep learning-based methods.\n",
    "\n",
    "The choice of imputation method should be guided by the nature of your data, the amount of missing data, the problem you are trying to solve, and the assumptions you are willing to make."
   ],
   "metadata": {
    "id": "_wruGao9LfHZ"
   }
  },
  {
   "cell_type": "code",
   "source": [
    "print_markdown(\"#### Handling Missing Data by Imputation\")\n",
    "print_markdown(\"Since the percentage of missing values is relatively low, thus having low impact on the actual data, we will be using imputation by Mean for numerical features and Mode for categorical features.\")\n",
    "\n",
    "# Impute missing values in numerical features with mean\n",
    "num_imputer = SimpleImputer(strategy='mean')\n",
    "df[numerical_features] = num_imputer.fit_transform(df[numerical_features])\n",
    "\n",
    "# Impute missing values in categorical features with mode\n",
    "cat_imputer = SimpleImputer(strategy='most_frequent')\n",
    "df[categorical_features] = cat_imputer.fit_transform(df[categorical_features])\n",
    "\n",
    "print(df.isnull().sum())"
   ],
   "metadata": {
    "id": "ucZNfCkiLfHZ",
    "ExecuteTime": {
     "end_time": "2024-12-01T09:24:51.580956Z",
     "start_time": "2024-12-01T09:24:51.129887Z"
    }
   },
   "outputs": [
    {
     "data": {
      "text/plain": [
       "<IPython.core.display.Markdown object>"
      ],
      "text/markdown": "#### Handling Missing Data by Imputation"
     },
     "metadata": {},
     "output_type": "display_data"
    },
    {
     "data": {
      "text/plain": [
       "<IPython.core.display.Markdown object>"
      ],
      "text/markdown": "Since the percentage of missing values is relatively low, thus having low impact on the actual data, we will be using imputation by Mean for numerical features and Mode for categorical features."
     },
     "metadata": {},
     "output_type": "display_data"
    },
    {
     "name": "stdout",
     "output_type": "stream",
     "text": [
      "state                0\n",
      "dur                  0\n",
      "sbytes               0\n",
      "dbytes               0\n",
      "sttl                 0\n",
      "dttl                 0\n",
      "sloss                0\n",
      "dloss                0\n",
      "service              0\n",
      "sload                0\n",
      "dload                0\n",
      "spkts                0\n",
      "dpkts                0\n",
      "swin                 0\n",
      "dwin                 0\n",
      "stcpb                0\n",
      "dtcpb                0\n",
      "smean                0\n",
      "dmean                0\n",
      "trans_depth          0\n",
      "response_body_len    0\n",
      "proto                0\n",
      "sjit                 0\n",
      "djit                 0\n",
      "sinpkt               0\n",
      "dinpkt               0\n",
      "tcprtt               0\n",
      "synack               0\n",
      "ackdat               0\n",
      "attack_cat           0\n",
      "dtype: int64\n"
     ]
    }
   ],
   "execution_count": 4
  },
  {
   "cell_type": "markdown",
   "source": [
    "### II. Dealing with Outliers\n",
    "\n",
    "Outliers are data points that significantly differ from the majority of the data. They can be unusually high or low values that do not fit the pattern of the rest of the dataset. Outliers can significantly impact model performance, so it is important to handle them properly.\n",
    "\n",
    "Some methods to handle outliers:\n",
    "1. **Imputation**: Replace with mean, median, or a boundary value.\n",
    "2. **Clipping**: Cap values to upper and lower limits.\n",
    "3. **Transformation**: Use log, square root, or power transformations to reduce their influence.\n",
    "4. **Model-Based**: Use algorithms robust to outliers (e.g., tree-based models, Huber regression)."
   ],
   "metadata": {
    "id": "zgrSMcK75VY_"
   }
  },
  {
   "cell_type": "code",
   "source": [
    "# Write your code here"
   ],
   "metadata": {
    "id": "CgbZ6Lv17Uf0",
    "ExecuteTime": {
     "end_time": "2024-12-01T09:24:51.590026Z",
     "start_time": "2024-12-01T09:24:51.584966Z"
    }
   },
   "outputs": [],
   "execution_count": 5
  },
  {
   "cell_type": "markdown",
   "source": [
    "### III. Remove Duplicates\n",
    "Handling duplicate values is crucial because they can compromise data integrity, leading to inaccurate analysis and insights. Duplicate entries can bias machine learning models, causing overfitting and reducing their ability to generalize to new data. They also inflate the dataset size unnecessarily, increasing computational costs and processing times. Additionally, duplicates can distort statistical measures and lead to inconsistencies, ultimately affecting the reliability of data-driven decisions and reporting. Ensuring data quality by removing duplicates is essential for accurate, efficient, and consistent analysis."
   ],
   "metadata": {
    "id": "aO0ZEZ-s6Lu-"
   }
  },
  {
   "cell_type": "code",
   "source": [
    "# Write your code here"
   ],
   "metadata": {
    "id": "BHCkkZ-v7iF8",
    "ExecuteTime": {
     "end_time": "2024-12-01T09:24:51.610266Z",
     "start_time": "2024-12-01T09:24:51.592033Z"
    }
   },
   "outputs": [],
   "execution_count": 6
  },
  {
   "cell_type": "markdown",
   "source": [
    "### IV. Feature Engineering\n",
    "\n",
    "**Feature engineering** involves creating new features (input variables) or transforming existing ones to improve the performance of machine learning models. Feature engineering aims to enhance the model's ability to learn patterns and make accurate predictions from the data. It's often said that \"good features make good models.\"\n",
    "\n",
    "1. **Feature Selection:** Feature engineering can involve selecting the most relevant and informative features from the dataset. Removing irrelevant or redundant features not only simplifies the model but also reduces the risk of overfitting.\n",
    "\n",
    "2. **Creating New Features:** Sometimes, the existing features may not capture the underlying patterns effectively. In such cases, engineers create new features that provide additional information. For example:\n",
    "   \n",
    "   - **Polynomial Features:** Engineers may create new features by taking the square, cube, or other higher-order terms of existing numerical features. This can help capture nonlinear relationships.\n",
    "   \n",
    "   - **Interaction Features:** Interaction features are created by combining two or more existing features. For example, if you have features \"length\" and \"width,\" you can create an \"area\" feature by multiplying them.\n",
    "\n",
    "3. **Binning or Discretization:** Continuous numerical features can be divided into bins or categories. For instance, age values can be grouped into bins like \"child,\" \"adult,\" and \"senior.\"\n",
    "\n",
    "4. **Domain-Specific Feature Engineering:** Depending on the domain and problem, engineers may create domain-specific features. For example, in fraud detection, features related to transaction history and user behavior may be engineered to identify anomalies.\n",
    "\n",
    "Feature engineering is both a creative and iterative process. It requires a deep understanding of the data, domain knowledge, and experimentation to determine which features will enhance the model's predictive power."
   ],
   "metadata": {
    "id": "eycPASmMLfHa"
   }
  },
  {
   "cell_type": "code",
   "source": [
    "# Write your code here"
   ],
   "metadata": {
    "id": "UoXEV6wkLfHa",
    "ExecuteTime": {
     "end_time": "2024-12-01T09:24:51.631849Z",
     "start_time": "2024-12-01T09:24:51.612276Z"
    }
   },
   "outputs": [],
   "execution_count": 7
  },
  {
   "cell_type": "markdown",
   "source": [
    "## B. Data Preprocessing\n",
    "\n",
    "**Data preprocessing** is a broader step that encompasses both data cleaning and additional transformations to make the data suitable for machine learning algorithms. Its primary goals are:\n",
    "\n",
    "1. **Feature Scaling:** Ensure that numerical features have similar scales. Common techniques include Min-Max scaling (scaling to a specific range) or standardization (mean-centered, unit variance).\n",
    "\n",
    "2. **Encoding Categorical Variables:** Machine learning models typically work with numerical data, so categorical variables need to be encoded. This can be done using one-hot encoding, label encoding, or more advanced methods like target encoding.\n",
    "\n",
    "3. **Handling Imbalanced Classes:** If dealing with imbalanced classes in a binary classification task, apply techniques such as oversampling, undersampling, or using different evaluation metrics to address class imbalance.\n",
    "\n",
    "4. **Dimensionality Reduction:** Reduce the number of features using techniques like Principal Component Analysis (PCA) or feature selection to simplify the model and potentially improve its performance.\n",
    "\n",
    "5. **Normalization:** Normalize data to achieve a standard distribution. This is particularly important for algorithms that assume normally distributed data."
   ],
   "metadata": {
    "id": "xw11_49xLfHb"
   }
  },
  {
   "cell_type": "markdown",
   "source": [
    "### Notes on Preprocessing processes\n",
    "\n",
    "It is advised to create functions or classes that have the same/similar type of inputs and outputs, so you can add, remove, or swap the order of the processes easily. You can implement the functions or classes by yourself\n",
    "\n",
    "or\n",
    "\n",
    "use `sklearn` library. To create a new preprocessing component in `sklearn`, implement a corresponding class that includes:\n",
    "1. Inheritance to `BaseEstimator` and `TransformerMixin`\n",
    "2. The method `fit`\n",
    "3. The method `transform`"
   ],
   "metadata": {
    "id": "rVyVnA1hLfHd"
   }
  },
  {
   "cell_type": "code",
   "source": [
    "# Example\n",
    "\n",
    "# from sklearn.base import BaseEstimator, TransformerMixin\n",
    "\n",
    "# class FeatureEncoder(BaseEstimator, TransformerMixin):\n",
    "\n",
    "#     def fit(self, X, y=None):\n",
    "\n",
    "#         # Fit the encoder here\n",
    "\n",
    "#         return self\n",
    "\n",
    "#     def transform(self, X):\n",
    "#         X_encoded = X.copy()\n",
    "\n",
    "#         # Encode the categorical variables here\n",
    "\n",
    "#         return X_encoded"
   ],
   "metadata": {
    "id": "WbxHt-5eKz_I",
    "ExecuteTime": {
     "end_time": "2024-12-01T09:24:51.652462Z",
     "start_time": "2024-12-01T09:24:51.634367Z"
    }
   },
   "outputs": [],
   "execution_count": 8
  },
  {
   "cell_type": "markdown",
   "source": [
    "### I. Feature Scaling\n",
    "\n",
    "**Feature scaling** is a preprocessing technique used in machine learning to standardize the range of independent variables or features of data. The primary goal of feature scaling is to ensure that all features contribute equally to the training process and that machine learning algorithms can work effectively with the data.\n",
    "\n",
    "Here are the main reasons why feature scaling is important:\n",
    "\n",
    "1. **Algorithm Sensitivity:** Many machine learning algorithms are sensitive to the scale of input features. If the scales of features are significantly different, some algorithms may perform poorly or take much longer to converge.\n",
    "\n",
    "2. **Distance-Based Algorithms:** Algorithms that rely on distances or similarities between data points, such as k-nearest neighbors (KNN) and support vector machines (SVM), can be influenced by feature scales. Features with larger scales may dominate the distance calculations.\n",
    "\n",
    "3. **Regularization:** Regularization techniques, like L1 (Lasso) and L2 (Ridge) regularization, add penalty terms based on feature coefficients. Scaling ensures that all features are treated equally in the regularization process.\n",
    "\n",
    "Common methods for feature scaling include:\n",
    "\n",
    "1. **Min-Max Scaling (Normalization):** This method scales features to a specific range, typically [0, 1]. It's done using the following formula:\n",
    "\n",
    "   $$X' = \\frac{X - X_{min}}{X_{max} - X_{min}}$$\n",
    "\n",
    "   - Here, $X$ is the original feature value, $X_{min}$ is the minimum value of the feature, and $X_{max}$ is the maximum value of the feature.  \n",
    "<br />\n",
    "<br />\n",
    "2. **Standardization (Z-score Scaling):** This method scales features to have a mean (average) of 0 and a standard deviation of 1. It's done using the following formula:\n",
    "\n",
    "   $$X' = \\frac{X - \\mu}{\\sigma}$$\n",
    "\n",
    "   - $X$ is the original feature value, $\\mu$ is the mean of the feature, and $\\sigma$ is the standard deviation of the feature.  \n",
    "<br />\n",
    "<br />\n",
    "3. **Robust Scaling:** Robust scaling is a method that scales features to the interquartile range (IQR) and is less affected by outliers. It's calculated as:\n",
    "\n",
    "   $$X' = \\frac{X - Q1}{Q3 - Q1}$$\n",
    "\n",
    "   - $X$ is the original feature value, $Q1$ is the first quartile (25th percentile), and $Q3$ is the third quartile (75th percentile) of the feature.  \n",
    "<br />\n",
    "<br />\n",
    "4. **Log Transformation:** In cases where data is highly skewed or has a heavy-tailed distribution, taking the logarithm of the feature values can help stabilize the variance and improve scaling.\n",
    "\n",
    "The choice of scaling method depends on the characteristics of your data and the requirements of your machine learning algorithm. **Min-max scaling and standardization are the most commonly used techniques and work well for many datasets.**\n",
    "\n",
    "Scaling should be applied separately to each training and test set to prevent data leakage from the test set into the training set. Additionally, **some algorithms may not require feature scaling, particularly tree-based models.**"
   ],
   "metadata": {
    "id": "WhCgOl4xLfHb"
   }
  },
  {
   "cell_type": "code",
   "source": [
    "# Write your code here"
   ],
   "metadata": {
    "id": "COef9EbCLfHb",
    "ExecuteTime": {
     "end_time": "2024-12-01T09:24:51.675185Z",
     "start_time": "2024-12-01T09:24:51.654982Z"
    }
   },
   "outputs": [],
   "execution_count": 9
  },
  {
   "cell_type": "markdown",
   "source": [
    "### II. Feature Encoding\n",
    "\n",
    "**Feature encoding**, also known as **categorical encoding**, is the process of converting categorical data (non-numeric data) into a numerical format so that it can be used as input for machine learning algorithms. Most machine learning models require numerical data for training and prediction, so feature encoding is a critical step in data preprocessing.\n",
    "\n",
    "Categorical data can take various forms, including:\n",
    "\n",
    "1. **Nominal Data:** Categories with no intrinsic order, like colors or country names.  \n",
    "\n",
    "2. **Ordinal Data:** Categories with a meaningful order but not necessarily equidistant, like education levels (e.g., \"high school,\" \"bachelor's,\" \"master's\").\n",
    "\n",
    "There are several common methods for encoding categorical data:\n",
    "\n",
    "1. **Label Encoding:**\n",
    "\n",
    "   - Label encoding assigns a unique integer to each category in a feature.\n",
    "   - It's suitable for ordinal data where there's a clear order among categories.\n",
    "   - For example, if you have an \"education\" feature with values \"high school,\" \"bachelor's,\" and \"master's,\" you can encode them as 0, 1, and 2, respectively.\n",
    "<br />\n",
    "<br />\n",
    "2. **One-Hot Encoding:**\n",
    "\n",
    "   - One-hot encoding creates a binary (0 or 1) column for each category in a nominal feature.\n",
    "   - It's suitable for nominal data where there's no inherent order among categories.\n",
    "   - Each category becomes a new feature, and the presence (1) or absence (0) of a category is indicated for each row.\n",
    "<br />\n",
    "<br />\n",
    "3. **Target Encoding (Mean Encoding):**\n",
    "\n",
    "   - Target encoding replaces each category with the mean of the target variable for that category.\n",
    "   - It's often used for classification problems."
   ],
   "metadata": {
    "id": "f_Lh-4JwLfHc"
   }
  },
  {
   "cell_type": "code",
   "source": [
    "# Write your code here"
   ],
   "metadata": {
    "id": "psElSUugLfHc",
    "ExecuteTime": {
     "end_time": "2024-12-01T09:24:51.694197Z",
     "start_time": "2024-12-01T09:24:51.677195Z"
    }
   },
   "outputs": [],
   "execution_count": 10
  },
  {
   "cell_type": "markdown",
   "source": [
    "### III. Handling Imbalanced Dataset\n",
    "\n",
    "**Handling imbalanced datasets** is important because imbalanced data can lead to several issues that negatively impact the performance and reliability of machine learning models. Here are some key reasons:\n",
    "\n",
    "1. **Biased Model Performance**:\n",
    "\n",
    " - Models trained on imbalanced data tend to be biased towards the majority class, leading to poor performance on the minority class. This can result in misleading accuracy metrics.\n",
    "\n",
    "2. **Misleading Accuracy**:\n",
    "\n",
    " - High overall accuracy can be misleading in imbalanced datasets. For example, if 95% of the data belongs to one class, a model that always predicts the majority class will have 95% accuracy but will fail to identify the minority class.\n",
    "\n",
    "3. **Poor Generalization**:\n",
    "\n",
    " - Models trained on imbalanced data may not generalize well to new, unseen data, especially if the minority class is underrepresented.\n",
    "\n",
    "\n",
    "Some methods to handle imbalanced datasets:\n",
    "1. **Resampling Methods**:\n",
    "\n",
    " - Oversampling: Increase the number of instances in the minority class by duplicating or generating synthetic samples (e.g., SMOTE).\n",
    " - Undersampling: Reduce the number of instances in the majority class to balance the dataset.\n",
    "\n",
    "2. **Evaluation Metrics**:\n",
    "\n",
    " - Use appropriate evaluation metrics such as precision, recall, F1-score, ROC-AUC, and confusion matrix instead of accuracy to better assess model performance on imbalanced data.\n",
    "\n",
    "3. **Algorithmic Approaches**:\n",
    "\n",
    " - Use algorithms that are designed to handle imbalanced data, such as decision trees, random forests, or ensemble methods.\n",
    " - Adjust class weights in algorithms to give more importance to the minority class."
   ],
   "metadata": {
    "id": "jKQO9wtB8Pc0"
   }
  },
  {
   "cell_type": "code",
   "source": [
    "# Write your code here"
   ],
   "metadata": {
    "id": "u2BQd2XJ9W1i",
    "ExecuteTime": {
     "end_time": "2024-12-01T09:24:51.714319Z",
     "start_time": "2024-12-01T09:24:51.696207Z"
    }
   },
   "outputs": [],
   "execution_count": 11
  },
  {
   "cell_type": "markdown",
   "source": [
    "### IV. Data Normalization\n",
    "\n",
    "Data normalization is used to achieve a standard distribution. Without normalization, models or processes that rely on the assumption of normality may not work correctly. Normalization helps reduce the magnitude effect and ensures numerical stability during optimization."
   ],
   "metadata": {
    "id": "fTMSyUzf_-HQ"
   }
  },
  {
   "cell_type": "code",
   "source": [
    "# Write your code here"
   ],
   "metadata": {
    "id": "HLOWHftjF1JU",
    "ExecuteTime": {
     "end_time": "2024-12-01T09:24:51.735070Z",
     "start_time": "2024-12-01T09:24:51.718860Z"
    }
   },
   "outputs": [],
   "execution_count": 12
  },
  {
   "cell_type": "markdown",
   "source": [
    "### V. Dimensionality Reduction\n",
    "\n",
    "Dimensionality reduction is a technique used in data preprocessing to reduce the number of input features (dimensions) in a dataset while retaining as much important information as possible. It is essential when dealing with high-dimensional data, where too many features can cause problems like increased computational costs, overfitting, and difficulty in visualization. Reducing dimensions simplifies the data, making it easier to analyze and improving the performance of machine learning models.\n",
    "\n",
    "One of the main approaches to dimensionality reduction is feature extraction. Feature extraction creates new, smaller sets of features that capture the essence of the original data. Common techniques include:\n",
    "\n",
    "1. **Principal Component Analysis (PCA)**: Converts correlated features into a smaller number of uncorrelated \"principal components.\"\n",
    "2. **t-SNE (t-Distributed Stochastic Neighbor Embedding)**: A visualization-focused method to project high-dimensional data into 2D or 3D spaces.\n",
    "3. **Autoencoders**: Neural networks that learn compressed representations of the data."
   ],
   "metadata": {
    "id": "MSZPZSntF3Kb"
   }
  },
  {
   "cell_type": "code",
   "source": [
    "# Write your code here"
   ],
   "metadata": {
    "id": "5rksSMAWICY_",
    "ExecuteTime": {
     "end_time": "2024-12-01T09:24:51.754335Z",
     "start_time": "2024-12-01T09:24:51.737084Z"
    }
   },
   "outputs": [],
   "execution_count": 13
  },
  {
   "cell_type": "markdown",
   "source": [
    "# 3. Compile Preprocessing Pipeline\n",
    "\n",
    "All of the preprocessing classes or functions defined earlier will be compiled in this step."
   ],
   "metadata": {
    "id": "-ctVzt5DLfHd"
   }
  },
  {
   "cell_type": "markdown",
   "source": [
    "If you use sklearn to create preprocessing classes, you can list your preprocessing classes in the Pipeline object sequentially, and then fit and transform your data."
   ],
   "metadata": {
    "id": "S_ZlncSVjJG6"
   }
  },
  {
   "cell_type": "code",
   "source": [
    "# from sklearn.pipeline import Pipeline\n",
    "\n",
    "# # Note: You can add or delete preprocessing components from this pipeline\n",
    "\n",
    "# pipe = Pipeline([(\"imputer\", FeatureImputer()),\n",
    "#                  (\"featurecreator\", FeatureCreator()),\n",
    "#                  (\"scaler\", FeatureScaler()),\n",
    "#                  (\"encoder\", FeatureEncoder())])\n",
    "\n",
    "# train_set = pipe.fit_transform(train_set)\n",
    "# val_set = pipe.transform(val_set)"
   ],
   "metadata": {
    "id": "jHraoW_7LfHd",
    "ExecuteTime": {
     "end_time": "2024-12-01T09:24:51.776164Z",
     "start_time": "2024-12-01T09:24:51.758862Z"
    }
   },
   "outputs": [],
   "execution_count": 14
  },
  {
   "cell_type": "code",
   "source": [
    "# # Your code should work up until this point\n",
    "# train_set = pipe.fit_transform(train_set)\n",
    "# val_set = pipe.transform(val_set)"
   ],
   "metadata": {
    "id": "9s56aFFxLfHd",
    "ExecuteTime": {
     "end_time": "2024-12-01T09:24:51.795649Z",
     "start_time": "2024-12-01T09:24:51.778077Z"
    }
   },
   "outputs": [],
   "execution_count": 15
  },
  {
   "cell_type": "markdown",
   "source": [
    "or create your own here"
   ],
   "metadata": {
    "id": "SXoCqMztjhr-"
   }
  },
  {
   "cell_type": "code",
   "source": [
    "# Write your code here"
   ],
   "metadata": {
    "id": "7OoZ3oXEj2CW",
    "ExecuteTime": {
     "end_time": "2024-12-01T09:24:51.815029Z",
     "start_time": "2024-12-01T09:24:51.798220Z"
    }
   },
   "outputs": [],
   "execution_count": 16
  },
  {
   "cell_type": "markdown",
   "source": [
    "# 4. Modeling and Validation\n",
    "\n",
    "Modelling is the process of building your own machine learning models to solve specific problems, or in this assignment context, predicting the target feature `attack_cat`. Validation is the process of evaluating your trained model using the validation set or cross-validation method and providing some metrics that can help you decide what to do in the next iteration of development."
   ],
   "metadata": {
    "id": "9A3adbZXLfHe"
   }
  },
  {
   "cell_type": "markdown",
   "source": [
    "## A. KNN"
   ],
   "metadata": {
    "id": "ZnhMNbBILfHf"
   }
  },
  {
   "cell_type": "code",
   "source": [
    "# Type your code here"
   ],
   "metadata": {
    "id": "KV6ICmFmlqjk",
    "ExecuteTime": {
     "end_time": "2024-12-01T09:24:51.835836Z",
     "start_time": "2024-12-01T09:24:51.817042Z"
    }
   },
   "outputs": [],
   "execution_count": 17
  },
  {
   "cell_type": "markdown",
   "source": [
    "## B. Naive Bayes"
   ],
   "metadata": {
    "id": "nW0bMzkDLfHf"
   }
  },
  {
   "cell_type": "code",
   "source": [
    "# Type your code here"
   ],
   "metadata": {
    "id": "C_XwsN_-LfHg",
    "ExecuteTime": {
     "end_time": "2024-12-01T09:24:51.856229Z",
     "start_time": "2024-12-01T09:24:51.837852Z"
    }
   },
   "outputs": [],
   "execution_count": 18
  },
  {
   "cell_type": "markdown",
   "source": [
    "## C. ID3"
   ],
   "metadata": {
    "id": "TLDtIkPdLfHg"
   }
  },
  {
   "cell_type": "code",
   "source": [
    "# Type your code here"
   ],
   "metadata": {
    "id": "gZ6_x1LKLfHh",
    "ExecuteTime": {
     "end_time": "2024-12-01T09:24:51.876564Z",
     "start_time": "2024-12-01T09:24:51.858242Z"
    }
   },
   "outputs": [],
   "execution_count": 19
  },
  {
   "cell_type": "markdown",
   "source": [
    "## D. Improvements (Optional)\n",
    "\n",
    "- **Visualize the model evaluation result**\n",
    "\n",
    "This will help you to understand the details more clearly about your model's performance. From the visualization, you can see clearly if your model is leaning towards a class than the others. (Hint: confusion matrix, ROC-AUC curve, etc.)\n",
    "\n",
    "- **Explore the hyperparameters of your models**\n",
    "\n",
    "Each models have their own hyperparameters. And each of the hyperparameter have different effects on the model behaviour. You can optimize the model performance by finding the good set of hyperparameters through a process called **hyperparameter tuning**. (Hint: Grid search, random search, bayesian optimization)\n",
    "\n",
    "- **Cross-validation**\n",
    "\n",
    "Cross-validation is a critical technique in machine learning and data science for evaluating and validating the performance of predictive models. It provides a more **robust** and **reliable** evaluation method compared to a hold-out (single train-test set) validation. Though, it requires more time and computing power because of how cross-validation works. (Hint: k-fold cross-validation, stratified k-fold cross-validation, etc.)"
   ],
   "metadata": {
    "id": "LoH2u6fOLfHh"
   }
  },
  {
   "cell_type": "code",
   "source": [
    "# Type your code here"
   ],
   "metadata": {
    "id": "pg-A54yELfHh",
    "ExecuteTime": {
     "end_time": "2024-12-01T09:24:51.895841Z",
     "start_time": "2024-12-01T09:24:51.878093Z"
    }
   },
   "outputs": [],
   "execution_count": 20
  },
  {
   "cell_type": "markdown",
   "source": [
    "## E. Submission\n",
    "To predict the test set target feature and submit the results to the kaggle competition platform, do the following:\n",
    "1. Create a new pipeline instance identical to the first in Data Preprocessing\n",
    "2. With the pipeline, apply `fit_transform` to the original training set before splitting, then only apply `transform` to the test set.\n",
    "3. Retrain the model on the preprocessed training set\n",
    "4. Predict the test set\n",
    "5. Make sure the submission contains the `id` and `attack_cat` column."
   ],
   "metadata": {
    "id": "Li4l53DjLfHh"
   }
  },
  {
   "cell_type": "code",
   "source": [
    "# Type your code here"
   ],
   "metadata": {
    "id": "LeqnfWc-LfHi",
    "ExecuteTime": {
     "end_time": "2024-12-01T09:24:51.915714Z",
     "start_time": "2024-12-01T09:24:51.897850Z"
    }
   },
   "outputs": [],
   "execution_count": 21
  },
  {
   "cell_type": "markdown",
   "source": [
    "# 6. Error Analysis\n",
    "\n",
    "Based on all the process you have done until the modeling and evaluation step, write an analysis to support each steps you have taken to solve this problem. Write the analysis using the markdown block. Some questions that may help you in writing the analysis:\n",
    "\n",
    "- Does my model perform better in predicting one class than the other? If so, why is that?\n",
    "- To each models I have tried, which performs the best and what could be the reason?\n",
    "- Is it better for me to impute or drop the missing data? Why?\n",
    "- Does feature scaling help improve my model performance?\n",
    "- etc..."
   ],
   "metadata": {
    "id": "R-jXvKOpLfHi"
   }
  },
  {
   "cell_type": "markdown",
   "source": [
    "`Provide your analysis here`"
   ],
   "metadata": {
    "id": "tWL3nEAELfHj"
   }
  }
 ]
}
